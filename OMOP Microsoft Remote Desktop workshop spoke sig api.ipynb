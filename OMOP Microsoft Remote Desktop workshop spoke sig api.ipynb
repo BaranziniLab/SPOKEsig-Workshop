{
 "cells": [
  {
   "cell_type": "markdown",
   "metadata": {},
   "source": [
    "# Queries to download the patient data using the DE-ID UCSF OMOP data on Microsoft Remote Desktop:"
   ]
  },
  {
   "cell_type": "code",
   "execution_count": 1,
   "metadata": {},
   "outputs": [],
   "source": [
    "diag_query = 'SELECT DISTINCT OMOP_DEID.dbo.condition_occurrence.person_id, OMOP_DEID.dbo.condition_occurrence.condition_concept_id AS concept_id, OMOP_DEID.dbo.condition_occurrence.condition_start_date AS omop_date FROM OMOP_DEID.dbo.condition_occurrence WHERE OMOP_DEID.dbo.condition_occurrence.person_id IN (742728, 1918661, 2956795, 3075073, 3516176, 230130, 547231, 1291295, 1504450, 3745109, 411126, 1509724, 2417557, 3607047, 4260151)'\n",
    "med_query = 'SELECT DISTINCT OMOP_DEID.dbo.drug_exposure.person_id, OMOP_DEID.dbo.drug_exposure.drug_concept_id AS concept_id, OMOP_DEID.dbo.drug_exposure.drug_exposure_start_date AS omop_date FROM OMOP_DEID.dbo.drug_exposure WHERE OMOP_DEID.dbo.drug_exposure.person_id IN (742728, 1918661, 2956795, 3075073, 3516176, 230130, 547231, 1291295, 1504450, 3745109, 411126, 1509724, 2417557, 3607047, 4260151)'\n",
    "lab_query = 'SELECT DISTINCT OMOP_DEID.dbo.measurement.person_id, OMOP_DEID.dbo.measurement.measurement_concept_id AS concept_id, OMOP_DEID.dbo.measurement.measurement_date AS omop_date, OMOP_DEID.dbo.measurement.value_as_number, OMOP_DEID.dbo.measurement.value_as_concept_id, OMOP_DEID.dbo.measurement.range_low, OMOP_DEID.dbo.measurement.range_high, OMOP_DEID.dbo.measurement.value_source_value FROM OMOP_DEID.dbo.measurement WHERE OMOP_DEID.dbo.measurement.person_id IN (742728, 1918661, 2956795, 3075073, 3516176, 230130, 547231, 1291295, 1504450, 3745109, 411126, 1509724, 2417557, 3607047, 4260151)'"
   ]
  },
  {
   "cell_type": "markdown",
   "metadata": {},
   "source": [
    "# Import modules"
   ]
  },
  {
   "cell_type": "code",
   "execution_count": 2,
   "metadata": {},
   "outputs": [],
   "source": [
    "import pandas as pd\n",
    "import numpy as np\n",
    "import requests\n",
    "from requests.auth import HTTPBasicAuth\n",
    "from retrying import retry\n",
    "import warnings\n",
    "import pymssql\n",
    "warnings.filterwarnings(\"ignore\")\n",
    "\n",
    "base_url = 'http://44.233.240.105'\n",
    "end_point = '/v1/spoke_sig'\n",
    "url = base_url + end_point\n",
    "usr = 'bridge'\n",
    "psw = 'hrPHsWc3JVm8Sn0s2UPpzDB7v9Ix11iYBJei1gZOfxM'\n",
    "\n",
    "db = 'OMOP_DEID'\n",
    "server_name = 'qcrschwdb002.ucsfmedicalcenter.org'\n",
    "user_name = 'Campus\\USERNAME'\n",
    "pswd = 'PASSWORD'\n",
    "\n",
    "diseases = ['DOID:9778', 'DOID:1612', 'DOID:219']\n",
    "\n",
    "@retry(stop_max_attempt_number=50, wait_fixed=10000)\n",
    "def get_api_resp(clinical_variables):\n",
    "    return requests.get(url, params={'src':clinical_variables}, auth = HTTPBasicAuth(usr, psw), verify=False)\n",
    "\n",
    "def make_spoke_sigs(all_concept_df):\n",
    "    patients_seen, spoke_sigs = [], []\n",
    "    for patient, clinical_variables in all_concept_df[['Patient_Index', 'concept_id']].values:\n",
    "        result = get_api_resp(clinical_variables)\n",
    "        if result.status_code == 200:\n",
    "            if len(result.json()['spoke_sig']) >0:\n",
    "                print(\"API call was successfull, spoke signature for patient %s is available in 'spoke_sig' variable\" % patient)\n",
    "                patients_seen.append(patient)\n",
    "                spoke_sigs.append(result.json()['spoke_sig'])\n",
    "            else:\n",
    "                print('API call could not create a spoke signature for patient %s' % patient)\n",
    "        else:\n",
    "            print('API call was not successfull for patient %s, returned %s HTTP status code' % (patient, str(result.status_code)))    \n",
    "    return np.array(patients_seen), np.array(spoke_sigs)\n",
    "\n",
    "def check_if_float(val):\n",
    "    try:\n",
    "        val = float(val)\n",
    "        val = True\n",
    "    except ValueError:\n",
    "        val = False\n",
    "    return val\n",
    "\n",
    "def get_data(query, columns):\n",
    "    conn = pymssql.connect(server_name, user_name, pswd, db)\n",
    "    mycursor = conn.cursor()\n",
    "    mycursor.execute(query)\n",
    "    result = mycursor.fetchall()\n",
    "    data_list = list(result)\n",
    "    df = pd.DataFrame(data_list)\n",
    "    df.columns = columns\n",
    "    return df\n",
    "\n",
    "def load_patient_information(omop_to_diseases):\n",
    "    print('Reading diagnosis file ...')\n",
    "    diag_df = get_data(diag_query, ['person_id', 'concept_id', 'omop_date'])\n",
    "    patient_to_disease = pd.merge(diag_df[['person_id', 'concept_id']], omop_to_diseases, on='concept_id').drop(['concept_id'], axis=1).drop_duplicates()\n",
    "    print('Reading medication file ...')\n",
    "    med_df = get_data(med_query, ['person_id', 'concept_id', 'omop_date'])\n",
    "    print('Reading lab file ...')\n",
    "    lab_df = get_data(lab_query, ['person_id', 'concept_id', 'omop_date', 'value_as_number', 'value_as_concept_id', 'range_low', 'range_high', 'value_source_value'])\n",
    "    print('Filtering lab file ...')\n",
    "    lab_df.loc[:,'is_float'] = [check_if_float(val) for val in lab_df.value_as_number.values]\n",
    "    lab_df = lab_df[lab_df.is_float==True]\n",
    "    lab_df.loc[:,'value_as_number'] = lab_df.value_as_number.values.astype(float)\n",
    "    lab_df = lab_df[(lab_df.value_as_number<lab_df.range_low)|(lab_df.value_as_number>lab_df.range_high)]\n",
    "    print('Merging OMOP files ...')\n",
    "    cols = ['person_id', 'concept_id']\n",
    "    all_concept_df = pd.concat((diag_df[cols], med_df[cols], lab_df[cols]), axis=0).drop_duplicates()\n",
    "    all_concept_df.loc[:,'concept_id'] = ['OMOP:%s' % concept_id for concept_id in all_concept_df.concept_id.values]\n",
    "    all_concept_df = all_concept_df.groupby('person_id')['concept_id'].apply(list).reset_index()\n",
    "    all_concept_df = pd.merge(all_concept_df, patient_to_disease, on='person_id')\n",
    "    all_concept_df.loc[:,'Patient_Index'] = np.arange(len(all_concept_df))\n",
    "    return all_concept_df"
   ]
  },
  {
   "cell_type": "markdown",
   "metadata": {},
   "source": [
    "# Load OMOP to SPOKE conversions"
   ]
  },
  {
   "cell_type": "code",
   "execution_count": 3,
   "metadata": {},
   "outputs": [
    {
     "data": {
      "text/html": [
       "<div>\n",
       "<style scoped>\n",
       "    .dataframe tbody tr th:only-of-type {\n",
       "        vertical-align: middle;\n",
       "    }\n",
       "\n",
       "    .dataframe tbody tr th {\n",
       "        vertical-align: top;\n",
       "    }\n",
       "\n",
       "    .dataframe thead th {\n",
       "        text-align: right;\n",
       "    }\n",
       "</style>\n",
       "<table border=\"1\" class=\"dataframe\">\n",
       "  <thead>\n",
       "    <tr style=\"text-align: right;\">\n",
       "      <th></th>\n",
       "      <th>concept_id</th>\n",
       "      <th>Disease</th>\n",
       "    </tr>\n",
       "  </thead>\n",
       "  <tbody>\n",
       "    <tr>\n",
       "      <th>38597</th>\n",
       "      <td>1567737.0</td>\n",
       "      <td>DOID:1612</td>\n",
       "    </tr>\n",
       "    <tr>\n",
       "      <th>38598</th>\n",
       "      <td>45542678.0</td>\n",
       "      <td>DOID:1612</td>\n",
       "    </tr>\n",
       "    <tr>\n",
       "      <th>52179</th>\n",
       "      <td>45563331.0</td>\n",
       "      <td>DOID:1612</td>\n",
       "    </tr>\n",
       "    <tr>\n",
       "      <th>74654</th>\n",
       "      <td>44826452.0</td>\n",
       "      <td>DOID:1612</td>\n",
       "    </tr>\n",
       "    <tr>\n",
       "      <th>74657</th>\n",
       "      <td>45547568.0</td>\n",
       "      <td>DOID:1612</td>\n",
       "    </tr>\n",
       "  </tbody>\n",
       "</table>\n",
       "</div>"
      ],
      "text/plain": [
       "       concept_id    Disease\n",
       "38597   1567737.0  DOID:1612\n",
       "38598  45542678.0  DOID:1612\n",
       "52179  45563331.0  DOID:1612\n",
       "74654  44826452.0  DOID:1612\n",
       "74657  45547568.0  DOID:1612"
      ]
     },
     "execution_count": 3,
     "metadata": {},
     "output_type": "execute_result"
    }
   ],
   "source": [
    "omop_to_spoke = pd.read_csv('omop_to_spoke_cdw.tsv', sep='\\t', header=0, index_col=False)\n",
    "omop_to_diseases = omop_to_spoke[omop_to_spoke.SPOKE_ID.isin(diseases)][['concept_id', 'SPOKE_ID']].rename(index=str, columns={'SPOKE_ID':'Disease'}).drop_duplicates()\n",
    "omop_to_diseases.head()"
   ]
  },
  {
   "cell_type": "markdown",
   "metadata": {},
   "source": [
    "# Load and filter patient data"
   ]
  },
  {
   "cell_type": "code",
   "execution_count": 4,
   "metadata": {},
   "outputs": [
    {
     "name": "stdout",
     "output_type": "stream",
     "text": [
      "Reading diagnosis file ...\n",
      "Reading medication file ...\n",
      "Reading lab file ...\n",
      "Filtering lab file ...\n",
      "Merging OMOP files ...\n"
     ]
    },
    {
     "data": {
      "text/html": [
       "<div>\n",
       "<style scoped>\n",
       "    .dataframe tbody tr th:only-of-type {\n",
       "        vertical-align: middle;\n",
       "    }\n",
       "\n",
       "    .dataframe tbody tr th {\n",
       "        vertical-align: top;\n",
       "    }\n",
       "\n",
       "    .dataframe thead th {\n",
       "        text-align: right;\n",
       "    }\n",
       "</style>\n",
       "<table border=\"1\" class=\"dataframe\">\n",
       "  <thead>\n",
       "    <tr style=\"text-align: right;\">\n",
       "      <th></th>\n",
       "      <th>person_id</th>\n",
       "      <th>concept_id</th>\n",
       "      <th>Disease</th>\n",
       "      <th>Patient_Index</th>\n",
       "    </tr>\n",
       "  </thead>\n",
       "  <tbody>\n",
       "    <tr>\n",
       "      <th>0</th>\n",
       "      <td>230130</td>\n",
       "      <td>[OMOP:920291, OMOP:35206861, OMOP:35207065, OM...</td>\n",
       "      <td>DOID:1612</td>\n",
       "      <td>0</td>\n",
       "    </tr>\n",
       "    <tr>\n",
       "      <th>1</th>\n",
       "      <td>411126</td>\n",
       "      <td>[OMOP:35206139, OMOP:35207444, OMOP:35207458, ...</td>\n",
       "      <td>DOID:219</td>\n",
       "      <td>1</td>\n",
       "    </tr>\n",
       "    <tr>\n",
       "      <th>2</th>\n",
       "      <td>547231</td>\n",
       "      <td>[OMOP:35206536, OMOP:35207348, OMOP:35209013, ...</td>\n",
       "      <td>DOID:1612</td>\n",
       "      <td>2</td>\n",
       "    </tr>\n",
       "    <tr>\n",
       "      <th>3</th>\n",
       "      <td>742728</td>\n",
       "      <td>[OMOP:35206988, OMOP:35207924, OMOP:35207992, ...</td>\n",
       "      <td>DOID:9778</td>\n",
       "      <td>3</td>\n",
       "    </tr>\n",
       "    <tr>\n",
       "      <th>4</th>\n",
       "      <td>1291295</td>\n",
       "      <td>[OMOP:920291, OMOP:920292, OMOP:35207166, OMOP...</td>\n",
       "      <td>DOID:1612</td>\n",
       "      <td>4</td>\n",
       "    </tr>\n",
       "  </tbody>\n",
       "</table>\n",
       "</div>"
      ],
      "text/plain": [
       "   person_id                                         concept_id    Disease  \\\n",
       "0     230130  [OMOP:920291, OMOP:35206861, OMOP:35207065, OM...  DOID:1612   \n",
       "1     411126  [OMOP:35206139, OMOP:35207444, OMOP:35207458, ...   DOID:219   \n",
       "2     547231  [OMOP:35206536, OMOP:35207348, OMOP:35209013, ...  DOID:1612   \n",
       "3     742728  [OMOP:35206988, OMOP:35207924, OMOP:35207992, ...  DOID:9778   \n",
       "4    1291295  [OMOP:920291, OMOP:920292, OMOP:35207166, OMOP...  DOID:1612   \n",
       "\n",
       "   Patient_Index  \n",
       "0              0  \n",
       "1              1  \n",
       "2              2  \n",
       "3              3  \n",
       "4              4  "
      ]
     },
     "execution_count": 4,
     "metadata": {},
     "output_type": "execute_result"
    }
   ],
   "source": [
    "# filenames from SQL queries\n",
    "\n",
    "all_concept_df = load_patient_information(omop_to_diseases)\n",
    "all_concept_df.head()"
   ]
  },
  {
   "cell_type": "markdown",
   "metadata": {},
   "source": [
    "# Make SPOKEsigs"
   ]
  },
  {
   "cell_type": "code",
   "execution_count": 5,
   "metadata": {
    "scrolled": true
   },
   "outputs": [
    {
     "name": "stdout",
     "output_type": "stream",
     "text": [
      "API call was not successfull for patient 0, returned 500 HTTP status code\n",
      "API call was successfull, spoke signature for patient 1 is available in 'spoke_sig' variable\n",
      "API call was not successfull for patient 2, returned 500 HTTP status code\n",
      "API call was successfull, spoke signature for patient 3 is available in 'spoke_sig' variable\n",
      "API call was not successfull for patient 4, returned 500 HTTP status code\n",
      "API call was successfull, spoke signature for patient 5 is available in 'spoke_sig' variable\n",
      "API call was successfull, spoke signature for patient 6 is available in 'spoke_sig' variable\n",
      "API call was successfull, spoke signature for patient 7 is available in 'spoke_sig' variable\n",
      "API call was successfull, spoke signature for patient 8 is available in 'spoke_sig' variable\n",
      "API call was successfull, spoke signature for patient 9 is available in 'spoke_sig' variable\n",
      "API call was successfull, spoke signature for patient 10 is available in 'spoke_sig' variable\n",
      "API call was successfull, spoke signature for patient 11 is available in 'spoke_sig' variable\n",
      "API call was successfull, spoke signature for patient 12 is available in 'spoke_sig' variable\n",
      "API call was successfull, spoke signature for patient 13 is available in 'spoke_sig' variable\n",
      "API call was successfull, spoke signature for patient 14 is available in 'spoke_sig' variable\n"
     ]
    }
   ],
   "source": [
    "patients_seen, spoke_sigs = make_spoke_sigs(all_concept_df)"
   ]
  },
  {
   "cell_type": "markdown",
   "metadata": {},
   "source": [
    "# Save new patient information"
   ]
  },
  {
   "cell_type": "code",
   "execution_count": 6,
   "metadata": {},
   "outputs": [],
   "source": [
    "# filter patients w/o SPOKEsigs\n",
    "if len(all_concept_df) > len(patients_seen):\n",
    "    all_concept_df = all_concept_df[all_concept_df.Patient_Index.isin(patients_seen)]\n",
    "    all_concept_df.loc[:,'Patient_Index'] = np.arange(len(all_concept_df))\n",
    "\n",
    "# save patient info and SPOKEsigs\n",
    "np.save('MRD_patient_spokesigs.npy', spoke_sigs, allow_pickle=False)\n",
    "all_concept_df.to_csv('MRD_patient_info.tsv', sep='\\t', header=True, index=False)"
   ]
  },
  {
   "cell_type": "code",
   "execution_count": null,
   "metadata": {},
   "outputs": [],
   "source": []
  },
  {
   "cell_type": "code",
   "execution_count": null,
   "metadata": {},
   "outputs": [],
   "source": []
  },
  {
   "cell_type": "code",
   "execution_count": null,
   "metadata": {},
   "outputs": [],
   "source": []
  },
  {
   "cell_type": "code",
   "execution_count": null,
   "metadata": {},
   "outputs": [],
   "source": []
  }
 ],
 "metadata": {
  "kernelspec": {
   "display_name": "Python 3 (ipykernel)",
   "language": "python",
   "name": "python3"
  },
  "language_info": {
   "codemirror_mode": {
    "name": "ipython",
    "version": 3
   },
   "file_extension": ".py",
   "mimetype": "text/x-python",
   "name": "python",
   "nbconvert_exporter": "python",
   "pygments_lexer": "ipython3",
   "version": "3.8.2"
  }
 },
 "nbformat": 4,
 "nbformat_minor": 2
}
