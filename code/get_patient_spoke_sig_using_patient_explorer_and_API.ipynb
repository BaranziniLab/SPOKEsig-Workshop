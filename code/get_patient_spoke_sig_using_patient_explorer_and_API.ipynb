{
 "cells": [
  {
   "cell_type": "markdown",
   "metadata": {},
   "source": [
    "# Before generating SPOKEsigs you will need EHR data..."
   ]
  },
  {
   "cell_type": "markdown",
   "metadata": {},
   "source": [
    "This code used EHR data from PatientExplorer RDB (tables: Diagnosis, Medications, and Labs)<br/>"
   ]
  },
  {
   "cell_type": "markdown",
   "metadata": {},
   "source": [
    "# Import modules"
   ]
  },
  {
   "cell_type": "code",
   "execution_count": 8,
   "metadata": {},
   "outputs": [],
   "source": [
    "import pandas as pd\n",
    "import numpy as np\n",
    "import os\n",
    "import requests\n",
    "from requests.auth import HTTPBasicAuth\n",
    "from retrying import retry\n",
    "import warnings\n",
    "from config import read_config\n",
    "warnings.filterwarnings(\"ignore\")"
   ]
  },
  {
   "cell_type": "markdown",
   "metadata": {},
   "source": [
    "# Initialize file paths"
   ]
  },
  {
   "cell_type": "code",
   "execution_count": 9,
   "metadata": {},
   "outputs": [],
   "source": [
    "data_path = os.path.join(os.path.dirname(os.getcwd()),'data')\n",
    "omop_to_spoke_cdw_file = os.path.join(data_path, 'omop_to_spoke_cdw.tsv')\n",
    "cohort_patient_spokesigs_file = os.path.join(data_path, 'cohort_patient_spokesigs.npy')\n",
    "cohort_patient_info_file = os.path.join(data_path, 'cohort_patient_info.tsv')"
   ]
  },
  {
   "cell_type": "markdown",
   "metadata": {},
   "source": [
    "# Files from patient explorer"
   ]
  },
  {
   "cell_type": "code",
   "execution_count": 10,
   "metadata": {},
   "outputs": [],
   "source": [
    "diag_filename = os.path.join(data_path, 'breast_colon_ibd_conditions.csv')\n",
    "med_filename = os.path.join(data_path, 'breast_colon_ibd_drugs.csv')\n",
    "lab_filename = os.path.join(data_path, 'breast_colon_ibd_measurements_w_ab.csv')\n",
    "new_patient_info_filename = os.path.join(data_path, 'random_patient_info.tsv')\n",
    "new_patient_spokesig_filename = os.path.join(data_path, 'random_patient_spokesigs.npy')\n",
    "\n",
    "if not os.path.exists(diag_filename):\n",
    "    print('diag_filename is not saved. save it before proceeding.')\n",
    "if not os.path.exists(med_filename):\n",
    "    print('med_filename is not saved. save it before proceeding.')\n",
    "if not os.path.exists(lab_filename):\n",
    "    print('lab_filename is not saved. save it before proceeding.')"
   ]
  },
  {
   "cell_type": "markdown",
   "metadata": {},
   "source": [
    "# Custom functions"
   ]
  },
  {
   "cell_type": "code",
   "execution_count": 11,
   "metadata": {},
   "outputs": [],
   "source": [
    "@retry(stop_max_attempt_number=50, wait_fixed=10000)\n",
    "def get_api_resp(clinical_variables):\n",
    "    return requests.get(url, params={'src':clinical_variables}, auth = HTTPBasicAuth(usr, psw), verify=False)\n",
    "\n",
    "def make_spoke_sigs(all_concept_df):\n",
    "    patients_seen, spoke_sigs = [], []\n",
    "    for patient, clinical_variables in all_concept_df[['Patient_Index', 'concept_id']].values:\n",
    "        result = get_api_resp(clinical_variables)\n",
    "        if result.status_code == 200:\n",
    "            if len(result.json()['spoke_sig']) >0:\n",
    "                print(\"API call was successfull, spoke signature for patient %s is available in 'spoke_sig' variable\" % patient)\n",
    "                patients_seen.append(patient)\n",
    "                spoke_sigs.append(result.json()['spoke_sig'])\n",
    "            else:\n",
    "                print('API call could not create a spoke signature for patient %s' % patient)\n",
    "        else:\n",
    "            print('API call was not successfull for patient %s, returned %s HTTP status code' % (patient, str(result.status_code)))    \n",
    "    return np.array(patients_seen), np.array(spoke_sigs)\n",
    "\n",
    "def load_and_filter_rdb_data(diag_filename, med_filename, lab_filename, omop_to_spoke):\n",
    "    file_list = [diag_filename, med_filename, lab_filename]\n",
    "    col_change = [{\"icd10_code\":'ICD10CM',\"icd9_code\":'ICD9CM'}, {'medication_id':'MED'}, {'lab_component_id':'LAB'}]\n",
    "    domain_list = ['Condition', 'Drug', 'Measurement']\n",
    "    all_rdb_db = pd.DataFrame(columns=['patient_id','rdb_id'])\n",
    "    for i, (filename, col_change_dict) in enumerate(zip(file_list, col_change)):\n",
    "        df = pd.read_csv(filename, header=0, index_col=False).rename(columns=col_change_dict)\n",
    "        if domain_list[i] == 'Measurement':\n",
    "            df = df[df.lab_result_abnormal=='Yes'].drop(['lab_result_abnormal'],axis=1)\n",
    "        for col in list(col_change_dict.values()):\n",
    "            df.loc[:,col] = ['%s:%s' % (col, rdb) for rdb in df[col].values]\n",
    "            all_rdb_db = pd.concat((all_rdb_db, df[['patient_id', col]].rename(index=str, columns={col:'rdb_id'})),axis=0)\n",
    "        del df\n",
    "    all_rdb_db = pd.merge(all_rdb_db.rename(columns={'rdb_id':'Node_ID'}), omop_to_spoke[['Node_ID', 'concept_id', 'SPOKE_ID']], on='Node_ID')\n",
    "    all_rdb_db.loc[:, 'concept_id'] = ['OMOP:%s' % concept_id for concept_id in all_rdb_db.concept_id.values]\n",
    "    all_rdb_db = all_rdb_db.drop(['Node_ID'], axis=1).drop_duplicates()\n",
    "    return all_rdb_db\n",
    "\n",
    "def filter_by_sep_count(all_rdb_db, max_seps = 200):\n",
    "    sep_count = all_rdb_db[['patient_id', 'SPOKE_ID']].drop_duplicates().groupby('patient_id').count().reset_index()\n",
    "    print(sep_count.patient_id.unique().shape)\n",
    "    sep_count = sep_count[sep_count.SPOKE_ID<=max_seps]\n",
    "    print(sep_count.patient_id.unique().shape)\n",
    "    all_rdb_db = pd.merge(all_rdb_db, sep_count[['patient_id']], on='patient_id')\n",
    "    del sep_count\n",
    "    return all_rdb_db"
   ]
  },
  {
   "cell_type": "markdown",
   "metadata": {},
   "source": [
    "# API specifications"
   ]
  },
  {
   "cell_type": "code",
   "execution_count": 12,
   "metadata": {},
   "outputs": [],
   "source": [
    "base_url = 'https://spokeapi.ucsf.edu'\n",
    "end_point = '/v1/spoke_sig'\n",
    "c = dict(read_config().items('API'))\n",
    "usr = c['user']\n",
    "psw = c['psw']\n",
    "url = base_url + end_point"
   ]
  },
  {
   "cell_type": "markdown",
   "metadata": {},
   "source": [
    "# load OMOP+RDB to SPOKE"
   ]
  },
  {
   "cell_type": "code",
   "execution_count": 13,
   "metadata": {},
   "outputs": [
    {
     "data": {
      "text/html": [
       "<div>\n",
       "<style scoped>\n",
       "    .dataframe tbody tr th:only-of-type {\n",
       "        vertical-align: middle;\n",
       "    }\n",
       "\n",
       "    .dataframe tbody tr th {\n",
       "        vertical-align: top;\n",
       "    }\n",
       "\n",
       "    .dataframe thead th {\n",
       "        text-align: right;\n",
       "    }\n",
       "</style>\n",
       "<table border=\"1\" class=\"dataframe\">\n",
       "  <thead>\n",
       "    <tr style=\"text-align: right;\">\n",
       "      <th></th>\n",
       "      <th>OMOP_ID</th>\n",
       "      <th>Node_ID</th>\n",
       "      <th>SPOKE_ID</th>\n",
       "      <th>Node_type</th>\n",
       "      <th>Node_name</th>\n",
       "      <th>concept_id</th>\n",
       "      <th>map_id</th>\n",
       "    </tr>\n",
       "  </thead>\n",
       "  <tbody>\n",
       "    <tr>\n",
       "      <th>0</th>\n",
       "      <td>OMOP:8690</td>\n",
       "      <td>ICD10CM:M76.9</td>\n",
       "      <td>DOID:204</td>\n",
       "      <td>Disease</td>\n",
       "      <td>enthesopathy</td>\n",
       "      <td>8690</td>\n",
       "      <td>M76.9</td>\n",
       "    </tr>\n",
       "    <tr>\n",
       "      <th>1</th>\n",
       "      <td>OMOP:1571038</td>\n",
       "      <td>ICD10CM:M76</td>\n",
       "      <td>DOID:204</td>\n",
       "      <td>Disease</td>\n",
       "      <td>enthesopathy</td>\n",
       "      <td>1571038</td>\n",
       "      <td>M76</td>\n",
       "    </tr>\n",
       "    <tr>\n",
       "      <th>2</th>\n",
       "      <td>OMOP:1571047</td>\n",
       "      <td>ICD10CM:M76.8</td>\n",
       "      <td>DOID:204</td>\n",
       "      <td>Disease</td>\n",
       "      <td>enthesopathy</td>\n",
       "      <td>1571047</td>\n",
       "      <td>M76.8</td>\n",
       "    </tr>\n",
       "    <tr>\n",
       "      <th>3</th>\n",
       "      <td>OMOP:35208994</td>\n",
       "      <td>ICD10CM:M76.89</td>\n",
       "      <td>DOID:204</td>\n",
       "      <td>Disease</td>\n",
       "      <td>enthesopathy</td>\n",
       "      <td>35208994</td>\n",
       "      <td>M76.89</td>\n",
       "    </tr>\n",
       "    <tr>\n",
       "      <th>4</th>\n",
       "      <td>OMOP:45567656</td>\n",
       "      <td>ICD10CM:M76.891</td>\n",
       "      <td>DOID:204</td>\n",
       "      <td>Disease</td>\n",
       "      <td>enthesopathy</td>\n",
       "      <td>45567656</td>\n",
       "      <td>M76.891</td>\n",
       "    </tr>\n",
       "  </tbody>\n",
       "</table>\n",
       "</div>"
      ],
      "text/plain": [
       "         OMOP_ID          Node_ID  SPOKE_ID Node_type     Node_name  \\\n",
       "0      OMOP:8690    ICD10CM:M76.9  DOID:204   Disease  enthesopathy   \n",
       "1   OMOP:1571038      ICD10CM:M76  DOID:204   Disease  enthesopathy   \n",
       "2   OMOP:1571047    ICD10CM:M76.8  DOID:204   Disease  enthesopathy   \n",
       "3  OMOP:35208994   ICD10CM:M76.89  DOID:204   Disease  enthesopathy   \n",
       "4  OMOP:45567656  ICD10CM:M76.891  DOID:204   Disease  enthesopathy   \n",
       "\n",
       "   concept_id   map_id  \n",
       "0        8690    M76.9  \n",
       "1     1571038      M76  \n",
       "2     1571047    M76.8  \n",
       "3    35208994   M76.89  \n",
       "4    45567656  M76.891  "
      ]
     },
     "execution_count": 13,
     "metadata": {},
     "output_type": "execute_result"
    }
   ],
   "source": [
    "omop_to_spoke = pd.read_csv(omop_to_spoke_cdw_file, sep='\\t', header=0, index_col=False)\n",
    "omop_to_spoke.head()"
   ]
  },
  {
   "cell_type": "markdown",
   "metadata": {},
   "source": [
    "# Load and filter patient data"
   ]
  },
  {
   "cell_type": "code",
   "execution_count": 14,
   "metadata": {},
   "outputs": [
    {
     "data": {
      "text/html": [
       "<div>\n",
       "<style scoped>\n",
       "    .dataframe tbody tr th:only-of-type {\n",
       "        vertical-align: middle;\n",
       "    }\n",
       "\n",
       "    .dataframe tbody tr th {\n",
       "        vertical-align: top;\n",
       "    }\n",
       "\n",
       "    .dataframe thead th {\n",
       "        text-align: right;\n",
       "    }\n",
       "</style>\n",
       "<table border=\"1\" class=\"dataframe\">\n",
       "  <thead>\n",
       "    <tr style=\"text-align: right;\">\n",
       "      <th></th>\n",
       "      <th>patient_id</th>\n",
       "      <th>concept_id</th>\n",
       "      <th>SPOKE_ID</th>\n",
       "    </tr>\n",
       "  </thead>\n",
       "  <tbody>\n",
       "    <tr>\n",
       "      <th>0</th>\n",
       "      <td>D000074BF3D64D</td>\n",
       "      <td>OMOP:45562457</td>\n",
       "      <td>C0004096</td>\n",
       "    </tr>\n",
       "    <tr>\n",
       "      <th>1</th>\n",
       "      <td>D000074BF3D64D</td>\n",
       "      <td>OMOP:45562457</td>\n",
       "      <td>DOID:2841</td>\n",
       "    </tr>\n",
       "    <tr>\n",
       "      <th>2</th>\n",
       "      <td>D000074BF3D64D</td>\n",
       "      <td>OMOP:45562457</td>\n",
       "      <td>DOID:9360</td>\n",
       "    </tr>\n",
       "    <tr>\n",
       "      <th>3</th>\n",
       "      <td>D000074BF3D64D</td>\n",
       "      <td>OMOP:45562457</td>\n",
       "      <td>DOID:9415</td>\n",
       "    </tr>\n",
       "    <tr>\n",
       "      <th>4</th>\n",
       "      <td>D000206A2EACC1</td>\n",
       "      <td>OMOP:45562457</td>\n",
       "      <td>C0004096</td>\n",
       "    </tr>\n",
       "  </tbody>\n",
       "</table>\n",
       "</div>"
      ],
      "text/plain": [
       "       patient_id     concept_id   SPOKE_ID\n",
       "0  D000074BF3D64D  OMOP:45562457   C0004096\n",
       "1  D000074BF3D64D  OMOP:45562457  DOID:2841\n",
       "2  D000074BF3D64D  OMOP:45562457  DOID:9360\n",
       "3  D000074BF3D64D  OMOP:45562457  DOID:9415\n",
       "4  D000206A2EACC1  OMOP:45562457   C0004096"
      ]
     },
     "execution_count": 14,
     "metadata": {},
     "output_type": "execute_result"
    }
   ],
   "source": [
    "all_rdb_db = load_and_filter_rdb_data(diag_filename, med_filename, lab_filename, omop_to_spoke)\n",
    "all_rdb_db.head()"
   ]
  },
  {
   "cell_type": "markdown",
   "metadata": {},
   "source": [
    "# Filter by SEP Count (workshop ONLY)"
   ]
  },
  {
   "cell_type": "code",
   "execution_count": 15,
   "metadata": {},
   "outputs": [
    {
     "name": "stdout",
     "output_type": "stream",
     "text": [
      "(52251,)\n",
      "(51578,)\n"
     ]
    },
    {
     "data": {
      "text/html": [
       "<div>\n",
       "<style scoped>\n",
       "    .dataframe tbody tr th:only-of-type {\n",
       "        vertical-align: middle;\n",
       "    }\n",
       "\n",
       "    .dataframe tbody tr th {\n",
       "        vertical-align: top;\n",
       "    }\n",
       "\n",
       "    .dataframe thead th {\n",
       "        text-align: right;\n",
       "    }\n",
       "</style>\n",
       "<table border=\"1\" class=\"dataframe\">\n",
       "  <thead>\n",
       "    <tr style=\"text-align: right;\">\n",
       "      <th></th>\n",
       "      <th>patient_id</th>\n",
       "      <th>concept_id</th>\n",
       "      <th>SPOKE_ID</th>\n",
       "    </tr>\n",
       "  </thead>\n",
       "  <tbody>\n",
       "    <tr>\n",
       "      <th>0</th>\n",
       "      <td>D000074BF3D64D</td>\n",
       "      <td>OMOP:45562457</td>\n",
       "      <td>C0004096</td>\n",
       "    </tr>\n",
       "    <tr>\n",
       "      <th>1</th>\n",
       "      <td>D000074BF3D64D</td>\n",
       "      <td>OMOP:45562457</td>\n",
       "      <td>DOID:2841</td>\n",
       "    </tr>\n",
       "    <tr>\n",
       "      <th>2</th>\n",
       "      <td>D000074BF3D64D</td>\n",
       "      <td>OMOP:45562457</td>\n",
       "      <td>DOID:9360</td>\n",
       "    </tr>\n",
       "    <tr>\n",
       "      <th>3</th>\n",
       "      <td>D000074BF3D64D</td>\n",
       "      <td>OMOP:45562457</td>\n",
       "      <td>DOID:9415</td>\n",
       "    </tr>\n",
       "    <tr>\n",
       "      <th>4</th>\n",
       "      <td>D000074BF3D64D</td>\n",
       "      <td>OMOP:35207990</td>\n",
       "      <td>C0151790</td>\n",
       "    </tr>\n",
       "  </tbody>\n",
       "</table>\n",
       "</div>"
      ],
      "text/plain": [
       "       patient_id     concept_id   SPOKE_ID\n",
       "0  D000074BF3D64D  OMOP:45562457   C0004096\n",
       "1  D000074BF3D64D  OMOP:45562457  DOID:2841\n",
       "2  D000074BF3D64D  OMOP:45562457  DOID:9360\n",
       "3  D000074BF3D64D  OMOP:45562457  DOID:9415\n",
       "4  D000074BF3D64D  OMOP:35207990   C0151790"
      ]
     },
     "execution_count": 15,
     "metadata": {},
     "output_type": "execute_result"
    }
   ],
   "source": [
    "all_rdb_db = filter_by_sep_count(all_rdb_db, max_seps = 200)\n",
    "all_rdb_db.head()"
   ]
  },
  {
   "cell_type": "markdown",
   "metadata": {},
   "source": [
    "# Make Disease DF"
   ]
  },
  {
   "cell_type": "code",
   "execution_count": 16,
   "metadata": {},
   "outputs": [
    {
     "data": {
      "text/html": [
       "<div>\n",
       "<style scoped>\n",
       "    .dataframe tbody tr th:only-of-type {\n",
       "        vertical-align: middle;\n",
       "    }\n",
       "\n",
       "    .dataframe tbody tr th {\n",
       "        vertical-align: top;\n",
       "    }\n",
       "\n",
       "    .dataframe thead th {\n",
       "        text-align: right;\n",
       "    }\n",
       "</style>\n",
       "<table border=\"1\" class=\"dataframe\">\n",
       "  <thead>\n",
       "    <tr style=\"text-align: right;\">\n",
       "      <th></th>\n",
       "      <th>patient_id</th>\n",
       "      <th>Disease</th>\n",
       "    </tr>\n",
       "  </thead>\n",
       "  <tbody>\n",
       "    <tr>\n",
       "      <th>461</th>\n",
       "      <td>D00040B4CC68B5</td>\n",
       "      <td>DOID:9778</td>\n",
       "    </tr>\n",
       "    <tr>\n",
       "      <th>779</th>\n",
       "      <td>D0006B6F5F988B</td>\n",
       "      <td>DOID:1612</td>\n",
       "    </tr>\n",
       "    <tr>\n",
       "      <th>2027</th>\n",
       "      <td>D001DF6EB09A06</td>\n",
       "      <td>DOID:219</td>\n",
       "    </tr>\n",
       "    <tr>\n",
       "      <th>2268</th>\n",
       "      <td>D0020A85670CAF</td>\n",
       "      <td>DOID:9778</td>\n",
       "    </tr>\n",
       "    <tr>\n",
       "      <th>5508</th>\n",
       "      <td>D004728B24000B</td>\n",
       "      <td>DOID:1612</td>\n",
       "    </tr>\n",
       "  </tbody>\n",
       "</table>\n",
       "</div>"
      ],
      "text/plain": [
       "          patient_id    Disease\n",
       "461   D00040B4CC68B5  DOID:9778\n",
       "779   D0006B6F5F988B  DOID:1612\n",
       "2027  D001DF6EB09A06   DOID:219\n",
       "2268  D0020A85670CAF  DOID:9778\n",
       "5508  D004728B24000B  DOID:1612"
      ]
     },
     "execution_count": 16,
     "metadata": {},
     "output_type": "execute_result"
    }
   ],
   "source": [
    "disease_list = ['DOID:1612','DOID:219','DOID:9778']\n",
    "# make df with patients and target diseases\n",
    "disease_df = all_rdb_db[['patient_id', 'SPOKE_ID']][all_rdb_db.SPOKE_ID.isin(disease_list)].drop_duplicates().rename(columns={'SPOKE_ID':'Disease'})\n",
    "# drop patients with more than one disease\n",
    "disease_df = disease_df.drop_duplicates(subset=['patient_id'], keep=False)\n",
    "disease_df.head()"
   ]
  },
  {
   "cell_type": "markdown",
   "metadata": {},
   "source": [
    "# Convert concept_id into list"
   ]
  },
  {
   "cell_type": "code",
   "execution_count": 17,
   "metadata": {},
   "outputs": [
    {
     "data": {
      "text/html": [
       "<div>\n",
       "<style scoped>\n",
       "    .dataframe tbody tr th:only-of-type {\n",
       "        vertical-align: middle;\n",
       "    }\n",
       "\n",
       "    .dataframe tbody tr th {\n",
       "        vertical-align: top;\n",
       "    }\n",
       "\n",
       "    .dataframe thead th {\n",
       "        text-align: right;\n",
       "    }\n",
       "</style>\n",
       "<table border=\"1\" class=\"dataframe\">\n",
       "  <thead>\n",
       "    <tr style=\"text-align: right;\">\n",
       "      <th></th>\n",
       "      <th>patient_id</th>\n",
       "      <th>concept_id</th>\n",
       "    </tr>\n",
       "  </thead>\n",
       "  <tbody>\n",
       "    <tr>\n",
       "      <th>0</th>\n",
       "      <td>D000074BF3D64D</td>\n",
       "      <td>[OMOP:45562457, OMOP:45562457, OMOP:45562457, ...</td>\n",
       "    </tr>\n",
       "    <tr>\n",
       "      <th>1</th>\n",
       "      <td>D000078BCE8F37</td>\n",
       "      <td>[OMOP:45605556, OMOP:45605556, OMOP:45552539, ...</td>\n",
       "    </tr>\n",
       "    <tr>\n",
       "      <th>2</th>\n",
       "      <td>D0000ADAACE372</td>\n",
       "      <td>[OMOP:45582909, OMOP:35209489, OMOP:35209489, ...</td>\n",
       "    </tr>\n",
       "    <tr>\n",
       "      <th>3</th>\n",
       "      <td>D0000BB51C51E3</td>\n",
       "      <td>[OMOP:45587068, OMOP:45577227, OMOP:45577227, ...</td>\n",
       "    </tr>\n",
       "    <tr>\n",
       "      <th>4</th>\n",
       "      <td>D0000BE1261731</td>\n",
       "      <td>[OMOP:45587068, OMOP:45563299, OMOP:35208722, ...</td>\n",
       "    </tr>\n",
       "  </tbody>\n",
       "</table>\n",
       "</div>"
      ],
      "text/plain": [
       "       patient_id                                         concept_id\n",
       "0  D000074BF3D64D  [OMOP:45562457, OMOP:45562457, OMOP:45562457, ...\n",
       "1  D000078BCE8F37  [OMOP:45605556, OMOP:45605556, OMOP:45552539, ...\n",
       "2  D0000ADAACE372  [OMOP:45582909, OMOP:35209489, OMOP:35209489, ...\n",
       "3  D0000BB51C51E3  [OMOP:45587068, OMOP:45577227, OMOP:45577227, ...\n",
       "4  D0000BE1261731  [OMOP:45587068, OMOP:45563299, OMOP:35208722, ..."
      ]
     },
     "execution_count": 17,
     "metadata": {},
     "output_type": "execute_result"
    }
   ],
   "source": [
    "all_rdb_db = all_rdb_db[['patient_id', 'concept_id']].groupby('patient_id')['concept_id'].apply(list).reset_index()\n",
    "all_rdb_db.head()"
   ]
  },
  {
   "cell_type": "markdown",
   "metadata": {},
   "source": [
    "# Make SPOKEsigs for random cohort"
   ]
  },
  {
   "cell_type": "code",
   "execution_count": 19,
   "metadata": {},
   "outputs": [
    {
     "data": {
      "text/html": [
       "<div>\n",
       "<style scoped>\n",
       "    .dataframe tbody tr th:only-of-type {\n",
       "        vertical-align: middle;\n",
       "    }\n",
       "\n",
       "    .dataframe tbody tr th {\n",
       "        vertical-align: top;\n",
       "    }\n",
       "\n",
       "    .dataframe thead th {\n",
       "        text-align: right;\n",
       "    }\n",
       "</style>\n",
       "<table border=\"1\" class=\"dataframe\">\n",
       "  <thead>\n",
       "    <tr style=\"text-align: right;\">\n",
       "      <th></th>\n",
       "      <th>patient_id</th>\n",
       "      <th>concept_id</th>\n",
       "      <th>Disease</th>\n",
       "      <th>Patient_Index</th>\n",
       "    </tr>\n",
       "  </thead>\n",
       "  <tbody>\n",
       "    <tr>\n",
       "      <th>0</th>\n",
       "      <td>D03F0C21992024</td>\n",
       "      <td>[OMOP:45534422, OMOP:45534422, OMOP:45587496, ...</td>\n",
       "      <td>DOID:1612</td>\n",
       "      <td>0</td>\n",
       "    </tr>\n",
       "    <tr>\n",
       "      <th>1</th>\n",
       "      <td>D043F71A76736B</td>\n",
       "      <td>[OMOP:45552539, OMOP:35207668, OMOP:35207668, ...</td>\n",
       "      <td>DOID:9778</td>\n",
       "      <td>1</td>\n",
       "    </tr>\n",
       "    <tr>\n",
       "      <th>2</th>\n",
       "      <td>D04BB7194EC25D</td>\n",
       "      <td>[OMOP:44824029, OMOP:44824029]</td>\n",
       "      <td>DOID:1612</td>\n",
       "      <td>2</td>\n",
       "    </tr>\n",
       "    <tr>\n",
       "      <th>3</th>\n",
       "      <td>D04BB899BF3AD8</td>\n",
       "      <td>[OMOP:45576183, OMOP:45576183, OMOP:45576183, ...</td>\n",
       "      <td>DOID:9778</td>\n",
       "      <td>3</td>\n",
       "    </tr>\n",
       "    <tr>\n",
       "      <th>4</th>\n",
       "      <td>D0512CE0ADC5C5</td>\n",
       "      <td>[OMOP:35209489, OMOP:35209489, OMOP:45576183, ...</td>\n",
       "      <td>DOID:9778</td>\n",
       "      <td>4</td>\n",
       "    </tr>\n",
       "    <tr>\n",
       "      <th>5</th>\n",
       "      <td>D053D962208C2A</td>\n",
       "      <td>[OMOP:35207668, OMOP:35207668, OMOP:35207668, ...</td>\n",
       "      <td>DOID:1612</td>\n",
       "      <td>5</td>\n",
       "    </tr>\n",
       "    <tr>\n",
       "      <th>6</th>\n",
       "      <td>D05779A93D3E18</td>\n",
       "      <td>[OMOP:35209383, OMOP:35207668, OMOP:35207668, ...</td>\n",
       "      <td>DOID:219</td>\n",
       "      <td>6</td>\n",
       "    </tr>\n",
       "    <tr>\n",
       "      <th>7</th>\n",
       "      <td>D0707AE5B73B9D</td>\n",
       "      <td>[OMOP:45587068, OMOP:45577227, OMOP:45577227, ...</td>\n",
       "      <td>DOID:1612</td>\n",
       "      <td>7</td>\n",
       "    </tr>\n",
       "    <tr>\n",
       "      <th>8</th>\n",
       "      <td>D07AE0C89AE03E</td>\n",
       "      <td>[OMOP:45562457, OMOP:45562457, OMOP:45562457, ...</td>\n",
       "      <td>DOID:219</td>\n",
       "      <td>8</td>\n",
       "    </tr>\n",
       "    <tr>\n",
       "      <th>9</th>\n",
       "      <td>D081DA005C12E0</td>\n",
       "      <td>[OMOP:45576183, OMOP:45576183, OMOP:45576183, ...</td>\n",
       "      <td>DOID:1612</td>\n",
       "      <td>9</td>\n",
       "    </tr>\n",
       "    <tr>\n",
       "      <th>10</th>\n",
       "      <td>D0BFC49E27CD8C</td>\n",
       "      <td>[OMOP:45552539, OMOP:45566469, OMOP:45534479, ...</td>\n",
       "      <td>DOID:219</td>\n",
       "      <td>10</td>\n",
       "    </tr>\n",
       "    <tr>\n",
       "      <th>11</th>\n",
       "      <td>D0C680B9809278</td>\n",
       "      <td>[OMOP:45562457, OMOP:45562457, OMOP:45562457, ...</td>\n",
       "      <td>DOID:9778</td>\n",
       "      <td>11</td>\n",
       "    </tr>\n",
       "    <tr>\n",
       "      <th>12</th>\n",
       "      <td>D0CA708C0BDED9</td>\n",
       "      <td>[OMOP:45566469, OMOP:45534422, OMOP:45534422, ...</td>\n",
       "      <td>DOID:219</td>\n",
       "      <td>12</td>\n",
       "    </tr>\n",
       "    <tr>\n",
       "      <th>13</th>\n",
       "      <td>D0D368AA4DBC8C</td>\n",
       "      <td>[OMOP:35209489, OMOP:35209489, OMOP:45576183, ...</td>\n",
       "      <td>DOID:9778</td>\n",
       "      <td>13</td>\n",
       "    </tr>\n",
       "    <tr>\n",
       "      <th>14</th>\n",
       "      <td>D0DF274D5A2A8B</td>\n",
       "      <td>[OMOP:45576183, OMOP:45576183, OMOP:45576183, ...</td>\n",
       "      <td>DOID:219</td>\n",
       "      <td>14</td>\n",
       "    </tr>\n",
       "  </tbody>\n",
       "</table>\n",
       "</div>"
      ],
      "text/plain": [
       "        patient_id                                         concept_id  \\\n",
       "0   D03F0C21992024  [OMOP:45534422, OMOP:45534422, OMOP:45587496, ...   \n",
       "1   D043F71A76736B  [OMOP:45552539, OMOP:35207668, OMOP:35207668, ...   \n",
       "2   D04BB7194EC25D                     [OMOP:44824029, OMOP:44824029]   \n",
       "3   D04BB899BF3AD8  [OMOP:45576183, OMOP:45576183, OMOP:45576183, ...   \n",
       "4   D0512CE0ADC5C5  [OMOP:35209489, OMOP:35209489, OMOP:45576183, ...   \n",
       "5   D053D962208C2A  [OMOP:35207668, OMOP:35207668, OMOP:35207668, ...   \n",
       "6   D05779A93D3E18  [OMOP:35209383, OMOP:35207668, OMOP:35207668, ...   \n",
       "7   D0707AE5B73B9D  [OMOP:45587068, OMOP:45577227, OMOP:45577227, ...   \n",
       "8   D07AE0C89AE03E  [OMOP:45562457, OMOP:45562457, OMOP:45562457, ...   \n",
       "9   D081DA005C12E0  [OMOP:45576183, OMOP:45576183, OMOP:45576183, ...   \n",
       "10  D0BFC49E27CD8C  [OMOP:45552539, OMOP:45566469, OMOP:45534479, ...   \n",
       "11  D0C680B9809278  [OMOP:45562457, OMOP:45562457, OMOP:45562457, ...   \n",
       "12  D0CA708C0BDED9  [OMOP:45566469, OMOP:45534422, OMOP:45534422, ...   \n",
       "13  D0D368AA4DBC8C  [OMOP:35209489, OMOP:35209489, OMOP:45576183, ...   \n",
       "14  D0DF274D5A2A8B  [OMOP:45576183, OMOP:45576183, OMOP:45576183, ...   \n",
       "\n",
       "      Disease  Patient_Index  \n",
       "0   DOID:1612              0  \n",
       "1   DOID:9778              1  \n",
       "2   DOID:1612              2  \n",
       "3   DOID:9778              3  \n",
       "4   DOID:9778              4  \n",
       "5   DOID:1612              5  \n",
       "6    DOID:219              6  \n",
       "7   DOID:1612              7  \n",
       "8    DOID:219              8  \n",
       "9   DOID:1612              9  \n",
       "10   DOID:219             10  \n",
       "11  DOID:9778             11  \n",
       "12   DOID:219             12  \n",
       "13  DOID:9778             13  \n",
       "14   DOID:219             14  "
      ]
     },
     "execution_count": 19,
     "metadata": {},
     "output_type": "execute_result"
    }
   ],
   "source": [
    "n_per_disease=5\n",
    "random_patients = np.concatenate([np.random.choice(disease_df[disease_df.Disease==d].patient_id.unique(), n_per_disease, replace=False) for d in disease_df.Disease.unique()])\n",
    "random_patient_concepts = pd.merge(all_rdb_db[all_rdb_db.patient_id.isin(random_patients)], disease_df, on='patient_id')\n",
    "random_patient_concepts.loc[:,'Patient_Index'] = np.arange(len(random_patient_concepts))\n",
    "random_patient_concepts"
   ]
  },
  {
   "cell_type": "code",
   "execution_count": 20,
   "metadata": {},
   "outputs": [
    {
     "name": "stdout",
     "output_type": "stream",
     "text": [
      "API call was successfull, spoke signature for patient 0 is available in 'spoke_sig' variable\n",
      "API call was successfull, spoke signature for patient 1 is available in 'spoke_sig' variable\n",
      "API call was successfull, spoke signature for patient 2 is available in 'spoke_sig' variable\n",
      "API call was successfull, spoke signature for patient 3 is available in 'spoke_sig' variable\n",
      "API call was successfull, spoke signature for patient 4 is available in 'spoke_sig' variable\n",
      "API call was successfull, spoke signature for patient 5 is available in 'spoke_sig' variable\n",
      "API call was successfull, spoke signature for patient 6 is available in 'spoke_sig' variable\n",
      "API call was successfull, spoke signature for patient 7 is available in 'spoke_sig' variable\n",
      "API call was successfull, spoke signature for patient 8 is available in 'spoke_sig' variable\n",
      "API call was successfull, spoke signature for patient 9 is available in 'spoke_sig' variable\n",
      "API call was successfull, spoke signature for patient 10 is available in 'spoke_sig' variable\n",
      "API call was successfull, spoke signature for patient 11 is available in 'spoke_sig' variable\n",
      "API call was successfull, spoke signature for patient 12 is available in 'spoke_sig' variable\n",
      "API call was successfull, spoke signature for patient 13 is available in 'spoke_sig' variable\n",
      "API call was successfull, spoke signature for patient 14 is available in 'spoke_sig' variable\n"
     ]
    }
   ],
   "source": [
    "patients_seen, spoke_sigs = make_spoke_sigs(random_patient_concepts)\n",
    "\n",
    "# filter patients w/o SPOKEsigs\n",
    "if len(random_patient_concepts) > len(patients_seen):\n",
    "    random_patient_concepts = random_patient_concepts[random_patient_concepts.Patient_Index.isin(patients_seen)]\n",
    "    random_patient_concepts.loc[:,'Patient_Index'] = np.arange(len(random_patient_concepts))\n",
    "\n",
    "# save patient info and SPOKEsigs\n",
    "np.save(new_patient_spokesig_filename, spoke_sigs, allow_pickle=False)\n",
    "random_patient_concepts.to_csv(new_patient_info_filename, sep='\\t', header=True, index=False)"
   ]
  },
  {
   "cell_type": "code",
   "execution_count": null,
   "metadata": {},
   "outputs": [],
   "source": []
  }
 ],
 "metadata": {
  "kernelspec": {
   "display_name": "Python 3",
   "language": "python",
   "name": "python3"
  },
  "language_info": {
   "codemirror_mode": {
    "name": "ipython",
    "version": 3
   },
   "file_extension": ".py",
   "mimetype": "text/x-python",
   "name": "python",
   "nbconvert_exporter": "python",
   "pygments_lexer": "ipython3",
   "version": "3.7.4"
  }
 },
 "nbformat": 4,
 "nbformat_minor": 2
}
