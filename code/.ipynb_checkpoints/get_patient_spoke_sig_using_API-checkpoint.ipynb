{
 "cells": [
  {
   "cell_type": "markdown",
   "metadata": {},
   "source": [
    "# Before generating SPOKEsigs you will need EHR data..."
   ]
  },
  {
   "cell_type": "markdown",
   "metadata": {},
   "source": [
    "This code used EHR data from PatientExplorer RDB (tables: Diagnosis, Medications, and Labs)<br/>"
   ]
  },
  {
   "cell_type": "markdown",
   "metadata": {},
   "source": [
    "# Import modules"
   ]
  },
  {
   "cell_type": "code",
   "execution_count": 1,
   "metadata": {},
   "outputs": [],
   "source": [
    "import pandas as pd\n",
    "import numpy as np\n",
    "import os\n",
    "import requests\n",
    "from requests.auth import HTTPBasicAuth\n",
    "from retrying import retry\n",
    "import warnings\n",
    "from config import read_config\n",
    "warnings.filterwarnings(\"ignore\")"
   ]
  },
  {
   "cell_type": "markdown",
   "metadata": {},
   "source": [
    "# Initialize file paths"
   ]
  },
  {
   "cell_type": "code",
   "execution_count": 12,
   "metadata": {},
   "outputs": [],
   "source": [
    "data_path = os.path.join(os.path.dirname(os.getcwd()),'data')\n",
    "omop_to_spoke_cdw_file = os.path.join(data_path, 'omop_to_spoke_cdw.tsv')\n",
    "cohort_patient_spokesigs_file = os.path.join(data_path, 'cohort_patient_spokesigs.npy')\n",
    "cohort_patient_info_file = os.path.join(data_path, 'cohort_patient_info.tsv')"
   ]
  },
  {
   "cell_type": "markdown",
   "metadata": {},
   "source": [
    "# Files from patient explorer"
   ]
  },
  {
   "cell_type": "code",
   "execution_count": 13,
   "metadata": {},
   "outputs": [
    {
     "name": "stdout",
     "output_type": "stream",
     "text": [
      "diag_filename is not saved. save it before proceeding.\n",
      "med_filename is not saved. save it before proceeding.\n",
      "lab_filename is not saved. save it before proceeding.\n",
      "new_patient_info_filename is not saved. save it before proceeding.\n",
      "new_patient_spokesig_filename is not saved. save it before proceeding.\n"
     ]
    }
   ],
   "source": [
    "diag_filename = os.path.join(data_path, 'breast_colon_ibd_conditions.csv')\n",
    "med_filename = os.path.join(data_path, 'breast_colon_ibd_drugs.csv')\n",
    "lab_filename = os.path.join(data_path, 'breast_colon_ibd_measurements_w_ab.csv')\n",
    "new_patient_info_filename = os.path.join(data_path, 'random_patient_info.tsv')\n",
    "new_patient_spokesig_filename = os.path.join(data_path, 'random_patient_spokesigs.npy')\n",
    "\n",
    "if not os.path.exists(diag_filename):\n",
    "    print('diag_filename is not saved. save it before proceeding.')\n",
    "if not os.path.exists(med_filename):\n",
    "    print('med_filename is not saved. save it before proceeding.')\n",
    "if not os.path.exists(lab_filename):\n",
    "    print('lab_filename is not saved. save it before proceeding.')\n",
    "if not os.path.exists(new_patient_info_filename):\n",
    "    print('new_patient_info_filename is not saved. save it before proceeding.')\n",
    "if not os.path.exists(new_patient_spokesig_filename):\n",
    "    print('new_patient_spokesig_filename is not saved. save it before proceeding.')"
   ]
  },
  {
   "cell_type": "markdown",
   "metadata": {},
   "source": [
    "# Custom functions"
   ]
  },
  {
   "cell_type": "code",
   "execution_count": 8,
   "metadata": {},
   "outputs": [],
   "source": [
    "@retry(stop_max_attempt_number=50, wait_fixed=10000)\n",
    "def get_api_resp(clinical_variables):\n",
    "    return requests.get(url, params={'src':clinical_variables}, auth = HTTPBasicAuth(usr, psw), verify=False)\n",
    "\n",
    "def make_spoke_sigs(all_concept_df):\n",
    "    patients_seen, spoke_sigs = [], []\n",
    "    for patient, clinical_variables in all_concept_df[['Patient_Index', 'concept_id']].values:\n",
    "        result = get_api_resp(clinical_variables)\n",
    "        if result.status_code == 200:\n",
    "            if len(result.json()['spoke_sig']) >0:\n",
    "                print(\"API call was successfull, spoke signature for patient %s is available in 'spoke_sig' variable\" % patient)\n",
    "                patients_seen.append(patient)\n",
    "                spoke_sigs.append(result.json()['spoke_sig'])\n",
    "            else:\n",
    "                print('API call could not create a spoke signature for patient %s' % patient)\n",
    "        else:\n",
    "            print('API call was not successfull for patient %s, returned %s HTTP status code' % (patient, str(result.status_code)))    \n",
    "    return np.array(patients_seen), np.array(spoke_sigs)\n",
    "\n",
    "def load_and_filter_rdb_data(diag_filename, med_filename, lab_filename, omop_to_spoke):\n",
    "    file_list = [diag_filename, med_filename, lab_filename]\n",
    "    col_change = [{\"icd10_code\":'ICD10CM',\"icd9_code\":'ICD9CM'}, {'medication_id':'MED'}, {'lab_component_id':'LAB'}]\n",
    "    domain_list = ['Condition', 'Drug', 'Measurement']\n",
    "    all_rdb_db = pd.DataFrame(columns=['patient_id','rdb_id'])\n",
    "    for i, (filename, col_change_dict) in enumerate(zip(file_list, col_change)):\n",
    "        df = pd.read_csv(filename, header=0, index_col=False).rename(columns=col_change_dict)\n",
    "        if domain_list[i] == 'Measurement':\n",
    "            df = df[df.lab_result_abnormal=='Yes'].drop(['lab_result_abnormal'],axis=1)\n",
    "        for col in list(col_change_dict.values()):\n",
    "            df.loc[:,col] = ['%s:%s' % (col, rdb) for rdb in df[col].values]\n",
    "            all_rdb_db = pd.concat((all_rdb_db, df[['patient_id', col]].rename(index=str, columns={col:'rdb_id'})),axis=0)\n",
    "        del df\n",
    "    all_rdb_db = pd.merge(all_rdb_db.rename(columns={'rdb_id':'Node_ID'}), omop_to_spoke[['Node_ID', 'concept_id', 'SPOKE_ID']], on='Node_ID')\n",
    "    all_rdb_db.loc[:, 'concept_id'] = ['OMOP:%s' % concept_id for concept_id in all_rdb_db.concept_id.values]\n",
    "    all_rdb_db = all_rdb_db.drop(['Node_ID'], axis=1).drop_duplicates()\n",
    "    return all_rdb_db\n",
    "\n",
    "def filter_by_sep_count(all_rdb_db, max_seps = 200):\n",
    "    sep_count = all_rdb_db[['patient_id', 'SPOKE_ID']].drop_duplicates().groupby('patient_id').count().reset_index()\n",
    "    print(sep_count.patient_id.unique().shape)\n",
    "    sep_count = sep_count[sep_count.SPOKE_ID<=max_seps]\n",
    "    print(sep_count.patient_id.unique().shape)\n",
    "    all_rdb_db = pd.merge(all_rdb_db, sep_count[['patient_id']], on='patient_id')\n",
    "    del sep_count\n",
    "    return all_rdb_db"
   ]
  },
  {
   "cell_type": "markdown",
   "metadata": {},
   "source": [
    "# API specifications"
   ]
  },
  {
   "cell_type": "code",
   "execution_count": 2,
   "metadata": {},
   "outputs": [],
   "source": [
    "base_url = 'https://spokeapi.ucsf.edu'\n",
    "end_point = '/v1/spoke_sig'\n",
    "c = dict(read_config().items('API'))\n",
    "usr = c['user']\n",
    "psw = c['psw']\n",
    "url = base_url + end_point"
   ]
  },
  {
   "cell_type": "markdown",
   "metadata": {},
   "source": [
    "# load OMOP+RDB to SPOKE"
   ]
  },
  {
   "cell_type": "code",
   "execution_count": 10,
   "metadata": {},
   "outputs": [
    {
     "data": {
      "text/html": [
       "<div>\n",
       "<style scoped>\n",
       "    .dataframe tbody tr th:only-of-type {\n",
       "        vertical-align: middle;\n",
       "    }\n",
       "\n",
       "    .dataframe tbody tr th {\n",
       "        vertical-align: top;\n",
       "    }\n",
       "\n",
       "    .dataframe thead th {\n",
       "        text-align: right;\n",
       "    }\n",
       "</style>\n",
       "<table border=\"1\" class=\"dataframe\">\n",
       "  <thead>\n",
       "    <tr style=\"text-align: right;\">\n",
       "      <th></th>\n",
       "      <th>OMOP_ID</th>\n",
       "      <th>Node_ID</th>\n",
       "      <th>SPOKE_ID</th>\n",
       "      <th>Node_type</th>\n",
       "      <th>Node_name</th>\n",
       "      <th>concept_id</th>\n",
       "      <th>map_id</th>\n",
       "    </tr>\n",
       "  </thead>\n",
       "  <tbody>\n",
       "    <tr>\n",
       "      <th>0</th>\n",
       "      <td>OMOP:8690</td>\n",
       "      <td>ICD10CM:M76.9</td>\n",
       "      <td>DOID:204</td>\n",
       "      <td>Disease</td>\n",
       "      <td>enthesopathy</td>\n",
       "      <td>8690</td>\n",
       "      <td>M76.9</td>\n",
       "    </tr>\n",
       "    <tr>\n",
       "      <th>1</th>\n",
       "      <td>OMOP:1571038</td>\n",
       "      <td>ICD10CM:M76</td>\n",
       "      <td>DOID:204</td>\n",
       "      <td>Disease</td>\n",
       "      <td>enthesopathy</td>\n",
       "      <td>1571038</td>\n",
       "      <td>M76</td>\n",
       "    </tr>\n",
       "    <tr>\n",
       "      <th>2</th>\n",
       "      <td>OMOP:1571047</td>\n",
       "      <td>ICD10CM:M76.8</td>\n",
       "      <td>DOID:204</td>\n",
       "      <td>Disease</td>\n",
       "      <td>enthesopathy</td>\n",
       "      <td>1571047</td>\n",
       "      <td>M76.8</td>\n",
       "    </tr>\n",
       "    <tr>\n",
       "      <th>3</th>\n",
       "      <td>OMOP:35208994</td>\n",
       "      <td>ICD10CM:M76.89</td>\n",
       "      <td>DOID:204</td>\n",
       "      <td>Disease</td>\n",
       "      <td>enthesopathy</td>\n",
       "      <td>35208994</td>\n",
       "      <td>M76.89</td>\n",
       "    </tr>\n",
       "    <tr>\n",
       "      <th>4</th>\n",
       "      <td>OMOP:45567656</td>\n",
       "      <td>ICD10CM:M76.891</td>\n",
       "      <td>DOID:204</td>\n",
       "      <td>Disease</td>\n",
       "      <td>enthesopathy</td>\n",
       "      <td>45567656</td>\n",
       "      <td>M76.891</td>\n",
       "    </tr>\n",
       "  </tbody>\n",
       "</table>\n",
       "</div>"
      ],
      "text/plain": [
       "         OMOP_ID          Node_ID  SPOKE_ID Node_type     Node_name  \\\n",
       "0      OMOP:8690    ICD10CM:M76.9  DOID:204   Disease  enthesopathy   \n",
       "1   OMOP:1571038      ICD10CM:M76  DOID:204   Disease  enthesopathy   \n",
       "2   OMOP:1571047    ICD10CM:M76.8  DOID:204   Disease  enthesopathy   \n",
       "3  OMOP:35208994   ICD10CM:M76.89  DOID:204   Disease  enthesopathy   \n",
       "4  OMOP:45567656  ICD10CM:M76.891  DOID:204   Disease  enthesopathy   \n",
       "\n",
       "   concept_id   map_id  \n",
       "0        8690    M76.9  \n",
       "1     1571038      M76  \n",
       "2     1571047    M76.8  \n",
       "3    35208994   M76.89  \n",
       "4    45567656  M76.891  "
      ]
     },
     "execution_count": 10,
     "metadata": {},
     "output_type": "execute_result"
    }
   ],
   "source": [
    "omop_to_spoke = pd.read_csv(omop_to_spoke_cdw_file, sep='\\t', header=0, index_col=False)\n",
    "omop_to_spoke.head()"
   ]
  },
  {
   "cell_type": "markdown",
   "metadata": {},
   "source": [
    "# Load and filter patient data"
   ]
  },
  {
   "cell_type": "code",
   "execution_count": 3,
   "metadata": {},
   "outputs": [
    {
     "data": {
      "text/html": [
       "<div>\n",
       "<style scoped>\n",
       "    .dataframe tbody tr th:only-of-type {\n",
       "        vertical-align: middle;\n",
       "    }\n",
       "\n",
       "    .dataframe tbody tr th {\n",
       "        vertical-align: top;\n",
       "    }\n",
       "\n",
       "    .dataframe thead th {\n",
       "        text-align: right;\n",
       "    }\n",
       "</style>\n",
       "<table border=\"1\" class=\"dataframe\">\n",
       "  <thead>\n",
       "    <tr style=\"text-align: right;\">\n",
       "      <th></th>\n",
       "      <th>patient_id</th>\n",
       "      <th>concept_id</th>\n",
       "      <th>SPOKE_ID</th>\n",
       "    </tr>\n",
       "  </thead>\n",
       "  <tbody>\n",
       "    <tr>\n",
       "      <th>0</th>\n",
       "      <td>D00040B4CC68B5</td>\n",
       "      <td>OMOP:35207155</td>\n",
       "      <td>DOID:1470</td>\n",
       "    </tr>\n",
       "    <tr>\n",
       "      <th>1</th>\n",
       "      <td>D00040B4CC68B5</td>\n",
       "      <td>OMOP:35207155</td>\n",
       "      <td>DOID:1596</td>\n",
       "    </tr>\n",
       "    <tr>\n",
       "      <th>6</th>\n",
       "      <td>D004F2E125F11F</td>\n",
       "      <td>OMOP:35207155</td>\n",
       "      <td>DOID:1470</td>\n",
       "    </tr>\n",
       "    <tr>\n",
       "      <th>7</th>\n",
       "      <td>D004F2E125F11F</td>\n",
       "      <td>OMOP:35207155</td>\n",
       "      <td>DOID:1596</td>\n",
       "    </tr>\n",
       "    <tr>\n",
       "      <th>8</th>\n",
       "      <td>D005B407B3BE66</td>\n",
       "      <td>OMOP:35207155</td>\n",
       "      <td>DOID:1470</td>\n",
       "    </tr>\n",
       "  </tbody>\n",
       "</table>\n",
       "</div>"
      ],
      "text/plain": [
       "       patient_id     concept_id   SPOKE_ID\n",
       "0  D00040B4CC68B5  OMOP:35207155  DOID:1470\n",
       "1  D00040B4CC68B5  OMOP:35207155  DOID:1596\n",
       "6  D004F2E125F11F  OMOP:35207155  DOID:1470\n",
       "7  D004F2E125F11F  OMOP:35207155  DOID:1596\n",
       "8  D005B407B3BE66  OMOP:35207155  DOID:1470"
      ]
     },
     "execution_count": 3,
     "metadata": {},
     "output_type": "execute_result"
    }
   ],
   "source": [
    "all_rdb_db = load_and_filter_rdb_data(diag_filename, med_filename, lab_filename, omop_to_spoke)\n",
    "all_rdb_db.head()"
   ]
  },
  {
   "cell_type": "markdown",
   "metadata": {},
   "source": [
    "# Filter by SEP Count (workshop ONLY)"
   ]
  },
  {
   "cell_type": "code",
   "execution_count": 4,
   "metadata": {},
   "outputs": [
    {
     "name": "stdout",
     "output_type": "stream",
     "text": [
      "(9506,)\n",
      "(8515,)\n"
     ]
    },
    {
     "data": {
      "text/html": [
       "<div>\n",
       "<style scoped>\n",
       "    .dataframe tbody tr th:only-of-type {\n",
       "        vertical-align: middle;\n",
       "    }\n",
       "\n",
       "    .dataframe tbody tr th {\n",
       "        vertical-align: top;\n",
       "    }\n",
       "\n",
       "    .dataframe thead th {\n",
       "        text-align: right;\n",
       "    }\n",
       "</style>\n",
       "<table border=\"1\" class=\"dataframe\">\n",
       "  <thead>\n",
       "    <tr style=\"text-align: right;\">\n",
       "      <th></th>\n",
       "      <th>patient_id</th>\n",
       "      <th>concept_id</th>\n",
       "      <th>SPOKE_ID</th>\n",
       "    </tr>\n",
       "  </thead>\n",
       "  <tbody>\n",
       "    <tr>\n",
       "      <th>0</th>\n",
       "      <td>D00040B4CC68B5</td>\n",
       "      <td>OMOP:35207155</td>\n",
       "      <td>DOID:1470</td>\n",
       "    </tr>\n",
       "    <tr>\n",
       "      <th>1</th>\n",
       "      <td>D00040B4CC68B5</td>\n",
       "      <td>OMOP:35207155</td>\n",
       "      <td>DOID:1596</td>\n",
       "    </tr>\n",
       "    <tr>\n",
       "      <th>2</th>\n",
       "      <td>D00040B4CC68B5</td>\n",
       "      <td>OMOP:35211261</td>\n",
       "      <td>C0039231</td>\n",
       "    </tr>\n",
       "    <tr>\n",
       "      <th>3</th>\n",
       "      <td>D00040B4CC68B5</td>\n",
       "      <td>OMOP:45567469</td>\n",
       "      <td>DOID:8398</td>\n",
       "    </tr>\n",
       "    <tr>\n",
       "      <th>4</th>\n",
       "      <td>D00040B4CC68B5</td>\n",
       "      <td>OMOP:35211262</td>\n",
       "      <td>C0428977</td>\n",
       "    </tr>\n",
       "  </tbody>\n",
       "</table>\n",
       "</div>"
      ],
      "text/plain": [
       "       patient_id     concept_id   SPOKE_ID\n",
       "0  D00040B4CC68B5  OMOP:35207155  DOID:1470\n",
       "1  D00040B4CC68B5  OMOP:35207155  DOID:1596\n",
       "2  D00040B4CC68B5  OMOP:35211261   C0039231\n",
       "3  D00040B4CC68B5  OMOP:45567469  DOID:8398\n",
       "4  D00040B4CC68B5  OMOP:35211262   C0428977"
      ]
     },
     "execution_count": 4,
     "metadata": {},
     "output_type": "execute_result"
    }
   ],
   "source": [
    "all_rdb_db = filter_by_sep_count(all_rdb_db, max_seps = 200)\n",
    "all_rdb_db.head()"
   ]
  },
  {
   "cell_type": "markdown",
   "metadata": {},
   "source": [
    "# Make Disease DF"
   ]
  },
  {
   "cell_type": "code",
   "execution_count": 5,
   "metadata": {},
   "outputs": [
    {
     "data": {
      "text/html": [
       "<div>\n",
       "<style scoped>\n",
       "    .dataframe tbody tr th:only-of-type {\n",
       "        vertical-align: middle;\n",
       "    }\n",
       "\n",
       "    .dataframe tbody tr th {\n",
       "        vertical-align: top;\n",
       "    }\n",
       "\n",
       "    .dataframe thead th {\n",
       "        text-align: right;\n",
       "    }\n",
       "</style>\n",
       "<table border=\"1\" class=\"dataframe\">\n",
       "  <thead>\n",
       "    <tr style=\"text-align: right;\">\n",
       "      <th></th>\n",
       "      <th>patient_id</th>\n",
       "      <th>Disease</th>\n",
       "    </tr>\n",
       "  </thead>\n",
       "  <tbody>\n",
       "    <tr>\n",
       "      <th>139</th>\n",
       "      <td>D00040B4CC68B5</td>\n",
       "      <td>DOID:9778</td>\n",
       "    </tr>\n",
       "    <tr>\n",
       "      <th>331</th>\n",
       "      <td>D005B407B3BE66</td>\n",
       "      <td>DOID:1612</td>\n",
       "    </tr>\n",
       "    <tr>\n",
       "      <th>826</th>\n",
       "      <td>D0169ED985F916</td>\n",
       "      <td>DOID:9778</td>\n",
       "    </tr>\n",
       "    <tr>\n",
       "      <th>1127</th>\n",
       "      <td>D0193B605CBD87</td>\n",
       "      <td>DOID:1612</td>\n",
       "    </tr>\n",
       "    <tr>\n",
       "      <th>1201</th>\n",
       "      <td>D01AC0A9CBD63C</td>\n",
       "      <td>DOID:9778</td>\n",
       "    </tr>\n",
       "  </tbody>\n",
       "</table>\n",
       "</div>"
      ],
      "text/plain": [
       "          patient_id    Disease\n",
       "139   D00040B4CC68B5  DOID:9778\n",
       "331   D005B407B3BE66  DOID:1612\n",
       "826   D0169ED985F916  DOID:9778\n",
       "1127  D0193B605CBD87  DOID:1612\n",
       "1201  D01AC0A9CBD63C  DOID:9778"
      ]
     },
     "execution_count": 5,
     "metadata": {},
     "output_type": "execute_result"
    }
   ],
   "source": [
    "disease_list = ['DOID:1612','DOID:219','DOID:9778']\n",
    "# make df with patients and target diseases\n",
    "disease_df = all_rdb_db[['patient_id', 'SPOKE_ID']][all_rdb_db.SPOKE_ID.isin(disease_list)].drop_duplicates().rename(columns={'SPOKE_ID':'Disease'})\n",
    "# drop patients with more than one disease\n",
    "disease_df = disease_df.drop_duplicates(subset=['patient_id'], keep=False)\n",
    "disease_df.head()"
   ]
  },
  {
   "cell_type": "markdown",
   "metadata": {},
   "source": [
    "# Convert concept_id into list"
   ]
  },
  {
   "cell_type": "code",
   "execution_count": 6,
   "metadata": {},
   "outputs": [
    {
     "data": {
      "text/html": [
       "<div>\n",
       "<style scoped>\n",
       "    .dataframe tbody tr th:only-of-type {\n",
       "        vertical-align: middle;\n",
       "    }\n",
       "\n",
       "    .dataframe tbody tr th {\n",
       "        vertical-align: top;\n",
       "    }\n",
       "\n",
       "    .dataframe thead th {\n",
       "        text-align: right;\n",
       "    }\n",
       "</style>\n",
       "<table border=\"1\" class=\"dataframe\">\n",
       "  <thead>\n",
       "    <tr style=\"text-align: right;\">\n",
       "      <th></th>\n",
       "      <th>patient_id</th>\n",
       "      <th>concept_id</th>\n",
       "    </tr>\n",
       "  </thead>\n",
       "  <tbody>\n",
       "    <tr>\n",
       "      <th>0</th>\n",
       "      <td>D00040B4CC68B5</td>\n",
       "      <td>[OMOP:35207155, OMOP:35207155, OMOP:35211261, ...</td>\n",
       "    </tr>\n",
       "    <tr>\n",
       "      <th>1</th>\n",
       "      <td>D000468A469EFC</td>\n",
       "      <td>[OMOP:45556996, OMOP:45556996, OMOP:35209392, ...</td>\n",
       "    </tr>\n",
       "    <tr>\n",
       "      <th>2</th>\n",
       "      <td>D0006B6F5F988B</td>\n",
       "      <td>[OMOP:45582718, OMOP:45562457, OMOP:45562457, ...</td>\n",
       "    </tr>\n",
       "    <tr>\n",
       "      <th>3</th>\n",
       "      <td>D00091B0E81964</td>\n",
       "      <td>[OMOP:45558454, OMOP:45558454, OMOP:35211268, ...</td>\n",
       "    </tr>\n",
       "    <tr>\n",
       "      <th>4</th>\n",
       "      <td>D002F6662170CA</td>\n",
       "      <td>[OMOP:45600511, OMOP:45600511, OMOP:45587508, ...</td>\n",
       "    </tr>\n",
       "  </tbody>\n",
       "</table>\n",
       "</div>"
      ],
      "text/plain": [
       "       patient_id                                         concept_id\n",
       "0  D00040B4CC68B5  [OMOP:35207155, OMOP:35207155, OMOP:35211261, ...\n",
       "1  D000468A469EFC  [OMOP:45556996, OMOP:45556996, OMOP:35209392, ...\n",
       "2  D0006B6F5F988B  [OMOP:45582718, OMOP:45562457, OMOP:45562457, ...\n",
       "3  D00091B0E81964  [OMOP:45558454, OMOP:45558454, OMOP:35211268, ...\n",
       "4  D002F6662170CA  [OMOP:45600511, OMOP:45600511, OMOP:45587508, ..."
      ]
     },
     "execution_count": 6,
     "metadata": {},
     "output_type": "execute_result"
    }
   ],
   "source": [
    "all_rdb_db = all_rdb_db[['patient_id', 'concept_id']].groupby('patient_id')['concept_id'].apply(list).reset_index()\n",
    "all_rdb_db.head()"
   ]
  },
  {
   "cell_type": "markdown",
   "metadata": {},
   "source": [
    "# Filter for patients in cohort"
   ]
  },
  {
   "cell_type": "code",
   "execution_count": 7,
   "metadata": {},
   "outputs": [
    {
     "data": {
      "text/html": [
       "<div>\n",
       "<style scoped>\n",
       "    .dataframe tbody tr th:only-of-type {\n",
       "        vertical-align: middle;\n",
       "    }\n",
       "\n",
       "    .dataframe tbody tr th {\n",
       "        vertical-align: top;\n",
       "    }\n",
       "\n",
       "    .dataframe thead th {\n",
       "        text-align: right;\n",
       "    }\n",
       "</style>\n",
       "<table border=\"1\" class=\"dataframe\">\n",
       "  <thead>\n",
       "    <tr style=\"text-align: right;\">\n",
       "      <th></th>\n",
       "      <th>patient_id</th>\n",
       "      <th>concept_id</th>\n",
       "      <th>Patient_Index</th>\n",
       "    </tr>\n",
       "  </thead>\n",
       "  <tbody>\n",
       "    <tr>\n",
       "      <th>185</th>\n",
       "      <td>D060061FF9F4FD</td>\n",
       "      <td>[OMOP:35207155, OMOP:35207155, OMOP:45534443, ...</td>\n",
       "      <td>0</td>\n",
       "    </tr>\n",
       "    <tr>\n",
       "      <th>379</th>\n",
       "      <td>D0BF19F4BF830A</td>\n",
       "      <td>[OMOP:35208190, OMOP:45542912, OMOP:45542912, ...</td>\n",
       "      <td>1</td>\n",
       "    </tr>\n",
       "    <tr>\n",
       "      <th>1182</th>\n",
       "      <td>D22F698B840EFE</td>\n",
       "      <td>[OMOP:35207155, OMOP:35207155, OMOP:35211262, ...</td>\n",
       "      <td>2</td>\n",
       "    </tr>\n",
       "    <tr>\n",
       "      <th>1609</th>\n",
       "      <td>D2FD78AD500C21</td>\n",
       "      <td>[OMOP:35211261, OMOP:45582718, OMOP:35208968, ...</td>\n",
       "      <td>3</td>\n",
       "    </tr>\n",
       "    <tr>\n",
       "      <th>1858</th>\n",
       "      <td>D38AED218510BA</td>\n",
       "      <td>[OMOP:45558454, OMOP:45558454, OMOP:45534435, ...</td>\n",
       "      <td>4</td>\n",
       "    </tr>\n",
       "  </tbody>\n",
       "</table>\n",
       "</div>"
      ],
      "text/plain": [
       "          patient_id                                         concept_id  \\\n",
       "185   D060061FF9F4FD  [OMOP:35207155, OMOP:35207155, OMOP:45534443, ...   \n",
       "379   D0BF19F4BF830A  [OMOP:35208190, OMOP:45542912, OMOP:45542912, ...   \n",
       "1182  D22F698B840EFE  [OMOP:35207155, OMOP:35207155, OMOP:35211262, ...   \n",
       "1609  D2FD78AD500C21  [OMOP:35211261, OMOP:45582718, OMOP:35208968, ...   \n",
       "1858  D38AED218510BA  [OMOP:45558454, OMOP:45558454, OMOP:45534435, ...   \n",
       "\n",
       "      Patient_Index  \n",
       "185               0  \n",
       "379               1  \n",
       "1182              2  \n",
       "1609              3  \n",
       "1858              4  "
      ]
     },
     "execution_count": 7,
     "metadata": {},
     "output_type": "execute_result"
    }
   ],
   "source": [
    "cohort_list = ['DCE5223B53DC0D', 'D38AED218510BA', 'D22F698B840EFE', 'D2FD78AD500C21', 'DB6650E66595E6', 'D6D3EFE8304EE2', 'DDD4DF543E4F15', 'DBAA51EF364B2A', 'D060061FF9F4FD', 'D0BF19F4BF830A', 'DB757350D863FA']\n",
    "filtered_concept_df = all_rdb_db[all_rdb_db.patient_id.isin(cohort_list)]\n",
    "filtered_concept_df.loc[:,'Patient_Index'] = np.arange(len(filtered_concept_df))\n",
    "filtered_concept_df.head()"
   ]
  },
  {
   "cell_type": "markdown",
   "metadata": {},
   "source": [
    "# Make SPOKEsigs"
   ]
  },
  {
   "cell_type": "code",
   "execution_count": 8,
   "metadata": {},
   "outputs": [
    {
     "name": "stdout",
     "output_type": "stream",
     "text": [
      "API call was successfull, spoke signature for patient 0 is available in 'spoke_sig' variable\n",
      "API call was successfull, spoke signature for patient 1 is available in 'spoke_sig' variable\n",
      "API call was successfull, spoke signature for patient 2 is available in 'spoke_sig' variable\n",
      "API call was successfull, spoke signature for patient 3 is available in 'spoke_sig' variable\n",
      "API call was successfull, spoke signature for patient 4 is available in 'spoke_sig' variable\n",
      "API call was successfull, spoke signature for patient 5 is available in 'spoke_sig' variable\n",
      "API call was successfull, spoke signature for patient 6 is available in 'spoke_sig' variable\n",
      "API call was successfull, spoke signature for patient 7 is available in 'spoke_sig' variable\n",
      "API call was successfull, spoke signature for patient 8 is available in 'spoke_sig' variable\n",
      "API call was successfull, spoke signature for patient 9 is available in 'spoke_sig' variable\n",
      "API call was successfull, spoke signature for patient 10 is available in 'spoke_sig' variable\n"
     ]
    }
   ],
   "source": [
    "patients_seen, spoke_sigs = make_spoke_sigs(filtered_concept_df)"
   ]
  },
  {
   "cell_type": "markdown",
   "metadata": {},
   "source": [
    "# Save SPOKEsigs and cohort information"
   ]
  },
  {
   "cell_type": "code",
   "execution_count": 9,
   "metadata": {},
   "outputs": [
    {
     "name": "stdout",
     "output_type": "stream",
     "text": [
      "       patient_id                                         concept_id  \\\n",
      "0  D060061FF9F4FD  [OMOP:35207155, OMOP:35207155, OMOP:45534443, ...   \n",
      "1  D0BF19F4BF830A  [OMOP:35208190, OMOP:45542912, OMOP:45542912, ...   \n",
      "2  D22F698B840EFE  [OMOP:35207155, OMOP:35207155, OMOP:35211262, ...   \n",
      "3  D2FD78AD500C21  [OMOP:35211261, OMOP:45582718, OMOP:35208968, ...   \n",
      "4  D38AED218510BA  [OMOP:45558454, OMOP:45558454, OMOP:45534435, ...   \n",
      "\n",
      "   Patient_Index    Disease  \n",
      "0              0  DOID:1612  \n",
      "1              1  DOID:1612  \n",
      "2              2  DOID:9778  \n",
      "3              3  DOID:9778  \n",
      "4              4  DOID:9778  \n"
     ]
    }
   ],
   "source": [
    "# add Diseases to cohort info \n",
    "filtered_concept_df = pd.merge(filtered_concept_df, disease_df, on='patient_id').sort_values('Patient_Index')\n",
    "print(filtered_concept_df.head())\n",
    "\n",
    "# filter patients w/o SPOKEsigs\n",
    "if len(filtered_concept_df) > len(patients_seen):\n",
    "    filtered_concept_df = filtered_concept_df[filtered_concept_df.Patient_Index.isin(patients_seen)]\n",
    "    filtered_concept_df.loc[:,'Patient_Index'] = np.arange(len(filtered_concept_df))\n",
    "\n",
    "# save patient info and SPOKEsigs\n",
    "np.save(cohort_patient_spokesigs_file, spoke_sigs, allow_pickle=False)\n",
    "filtered_concept_df.to_csv(cohort_patient_info_file, sep='\\t', header=True, index=False)"
   ]
  },
  {
   "cell_type": "markdown",
   "metadata": {},
   "source": [
    "# Make SPOKEsigs for random cohort"
   ]
  },
  {
   "cell_type": "code",
   "execution_count": 10,
   "metadata": {},
   "outputs": [
    {
     "data": {
      "text/html": [
       "<div>\n",
       "<style scoped>\n",
       "    .dataframe tbody tr th:only-of-type {\n",
       "        vertical-align: middle;\n",
       "    }\n",
       "\n",
       "    .dataframe tbody tr th {\n",
       "        vertical-align: top;\n",
       "    }\n",
       "\n",
       "    .dataframe thead th {\n",
       "        text-align: right;\n",
       "    }\n",
       "</style>\n",
       "<table border=\"1\" class=\"dataframe\">\n",
       "  <thead>\n",
       "    <tr style=\"text-align: right;\">\n",
       "      <th></th>\n",
       "      <th>patient_id</th>\n",
       "      <th>concept_id</th>\n",
       "      <th>Disease</th>\n",
       "      <th>Patient_Index</th>\n",
       "    </tr>\n",
       "  </thead>\n",
       "  <tbody>\n",
       "    <tr>\n",
       "      <th>0</th>\n",
       "      <td>D17520B5D8BA4E</td>\n",
       "      <td>[OMOP:37200312, OMOP:37200312, OMOP:35209281, ...</td>\n",
       "      <td>DOID:9778</td>\n",
       "      <td>0</td>\n",
       "    </tr>\n",
       "    <tr>\n",
       "      <th>1</th>\n",
       "      <td>D217E4FA3B5A83</td>\n",
       "      <td>[OMOP:45600511, OMOP:45600511, OMOP:920170, OM...</td>\n",
       "      <td>DOID:1612</td>\n",
       "      <td>1</td>\n",
       "    </tr>\n",
       "    <tr>\n",
       "      <th>2</th>\n",
       "      <td>D346AA72E51811</td>\n",
       "      <td>[OMOP:45582718, OMOP:45534458, OMOP:45534458, ...</td>\n",
       "      <td>DOID:9778</td>\n",
       "      <td>2</td>\n",
       "    </tr>\n",
       "    <tr>\n",
       "      <th>3</th>\n",
       "      <td>D471E6957130F9</td>\n",
       "      <td>[OMOP:45556996, OMOP:45556996, OMOP:35209392, ...</td>\n",
       "      <td>DOID:1612</td>\n",
       "      <td>3</td>\n",
       "    </tr>\n",
       "    <tr>\n",
       "      <th>4</th>\n",
       "      <td>D628A303CFA65B</td>\n",
       "      <td>[OMOP:35207668, OMOP:35207668, OMOP:35207668, ...</td>\n",
       "      <td>DOID:219</td>\n",
       "      <td>4</td>\n",
       "    </tr>\n",
       "    <tr>\n",
       "      <th>5</th>\n",
       "      <td>D6C3373D09F8E8</td>\n",
       "      <td>[OMOP:37200312, OMOP:37200312, OMOP:45572468, ...</td>\n",
       "      <td>DOID:219</td>\n",
       "      <td>5</td>\n",
       "    </tr>\n",
       "    <tr>\n",
       "      <th>6</th>\n",
       "      <td>D8672D017775BF</td>\n",
       "      <td>[OMOP:35207668, OMOP:35207668, OMOP:35207668, ...</td>\n",
       "      <td>DOID:1612</td>\n",
       "      <td>6</td>\n",
       "    </tr>\n",
       "    <tr>\n",
       "      <th>7</th>\n",
       "      <td>D8ED8D57D97F54</td>\n",
       "      <td>[OMOP:35208287, OMOP:35208287, OMOP:45576183, ...</td>\n",
       "      <td>DOID:9778</td>\n",
       "      <td>7</td>\n",
       "    </tr>\n",
       "    <tr>\n",
       "      <th>8</th>\n",
       "      <td>D97D1DDA7182DB</td>\n",
       "      <td>[OMOP:35208969, OMOP:35208969, OMOP:45553714, ...</td>\n",
       "      <td>DOID:9778</td>\n",
       "      <td>8</td>\n",
       "    </tr>\n",
       "    <tr>\n",
       "      <th>9</th>\n",
       "      <td>DA05072A44A583</td>\n",
       "      <td>[OMOP:35208968, OMOP:35208968, OMOP:35208190, ...</td>\n",
       "      <td>DOID:1612</td>\n",
       "      <td>9</td>\n",
       "    </tr>\n",
       "    <tr>\n",
       "      <th>10</th>\n",
       "      <td>DAC14314A780C0</td>\n",
       "      <td>[OMOP:35206139, OMOP:35206139, OMOP:35206139, ...</td>\n",
       "      <td>DOID:219</td>\n",
       "      <td>10</td>\n",
       "    </tr>\n",
       "    <tr>\n",
       "      <th>11</th>\n",
       "      <td>DB4C6A1D8C7884</td>\n",
       "      <td>[OMOP:35208968, OMOP:35208968, OMOP:35207410, ...</td>\n",
       "      <td>DOID:1612</td>\n",
       "      <td>11</td>\n",
       "    </tr>\n",
       "    <tr>\n",
       "      <th>12</th>\n",
       "      <td>DC4560D28354AA</td>\n",
       "      <td>[OMOP:35208287, OMOP:35208287, OMOP:45534429, ...</td>\n",
       "      <td>DOID:9778</td>\n",
       "      <td>12</td>\n",
       "    </tr>\n",
       "    <tr>\n",
       "      <th>13</th>\n",
       "      <td>DCC9F0502B0BB1</td>\n",
       "      <td>[OMOP:45561836, OMOP:45586027, OMOP:35206139, ...</td>\n",
       "      <td>DOID:219</td>\n",
       "      <td>13</td>\n",
       "    </tr>\n",
       "    <tr>\n",
       "      <th>14</th>\n",
       "      <td>DCECEB0884A241</td>\n",
       "      <td>[OMOP:45561836, OMOP:45586027, OMOP:35206139, ...</td>\n",
       "      <td>DOID:219</td>\n",
       "      <td>14</td>\n",
       "    </tr>\n",
       "  </tbody>\n",
       "</table>\n",
       "</div>"
      ],
      "text/plain": [
       "        patient_id                                         concept_id  \\\n",
       "0   D17520B5D8BA4E  [OMOP:37200312, OMOP:37200312, OMOP:35209281, ...   \n",
       "1   D217E4FA3B5A83  [OMOP:45600511, OMOP:45600511, OMOP:920170, OM...   \n",
       "2   D346AA72E51811  [OMOP:45582718, OMOP:45534458, OMOP:45534458, ...   \n",
       "3   D471E6957130F9  [OMOP:45556996, OMOP:45556996, OMOP:35209392, ...   \n",
       "4   D628A303CFA65B  [OMOP:35207668, OMOP:35207668, OMOP:35207668, ...   \n",
       "5   D6C3373D09F8E8  [OMOP:37200312, OMOP:37200312, OMOP:45572468, ...   \n",
       "6   D8672D017775BF  [OMOP:35207668, OMOP:35207668, OMOP:35207668, ...   \n",
       "7   D8ED8D57D97F54  [OMOP:35208287, OMOP:35208287, OMOP:45576183, ...   \n",
       "8   D97D1DDA7182DB  [OMOP:35208969, OMOP:35208969, OMOP:45553714, ...   \n",
       "9   DA05072A44A583  [OMOP:35208968, OMOP:35208968, OMOP:35208190, ...   \n",
       "10  DAC14314A780C0  [OMOP:35206139, OMOP:35206139, OMOP:35206139, ...   \n",
       "11  DB4C6A1D8C7884  [OMOP:35208968, OMOP:35208968, OMOP:35207410, ...   \n",
       "12  DC4560D28354AA  [OMOP:35208287, OMOP:35208287, OMOP:45534429, ...   \n",
       "13  DCC9F0502B0BB1  [OMOP:45561836, OMOP:45586027, OMOP:35206139, ...   \n",
       "14  DCECEB0884A241  [OMOP:45561836, OMOP:45586027, OMOP:35206139, ...   \n",
       "\n",
       "      Disease  Patient_Index  \n",
       "0   DOID:9778              0  \n",
       "1   DOID:1612              1  \n",
       "2   DOID:9778              2  \n",
       "3   DOID:1612              3  \n",
       "4    DOID:219              4  \n",
       "5    DOID:219              5  \n",
       "6   DOID:1612              6  \n",
       "7   DOID:9778              7  \n",
       "8   DOID:9778              8  \n",
       "9   DOID:1612              9  \n",
       "10   DOID:219             10  \n",
       "11  DOID:1612             11  \n",
       "12  DOID:9778             12  \n",
       "13   DOID:219             13  \n",
       "14   DOID:219             14  "
      ]
     },
     "execution_count": 10,
     "metadata": {},
     "output_type": "execute_result"
    }
   ],
   "source": [
    "n_per_disease=5\n",
    "random_patients = np.concatenate([np.random.choice(disease_df[disease_df.Disease==d].patient_id.unique(), n_per_disease, replace=False) for d in disease_df.Disease.unique()])\n",
    "random_patient_concepts = pd.merge(all_rdb_db[all_rdb_db.patient_id.isin(random_patients)], disease_df, on='patient_id')\n",
    "random_patient_concepts.loc[:,'Patient_Index'] = np.arange(len(random_patient_concepts))\n",
    "random_patient_concepts"
   ]
  },
  {
   "cell_type": "code",
   "execution_count": 11,
   "metadata": {},
   "outputs": [
    {
     "name": "stdout",
     "output_type": "stream",
     "text": [
      "API call was successfull, spoke signature for patient 0 is available in 'spoke_sig' variable\n",
      "API call was successfull, spoke signature for patient 1 is available in 'spoke_sig' variable\n",
      "API call was successfull, spoke signature for patient 2 is available in 'spoke_sig' variable\n",
      "API call was successfull, spoke signature for patient 3 is available in 'spoke_sig' variable\n",
      "API call was successfull, spoke signature for patient 4 is available in 'spoke_sig' variable\n",
      "API call was successfull, spoke signature for patient 5 is available in 'spoke_sig' variable\n",
      "API call was successfull, spoke signature for patient 6 is available in 'spoke_sig' variable\n",
      "API call was successfull, spoke signature for patient 7 is available in 'spoke_sig' variable\n",
      "API call was successfull, spoke signature for patient 8 is available in 'spoke_sig' variable\n",
      "API call was successfull, spoke signature for patient 9 is available in 'spoke_sig' variable\n",
      "API call was successfull, spoke signature for patient 10 is available in 'spoke_sig' variable\n",
      "API call was successfull, spoke signature for patient 11 is available in 'spoke_sig' variable\n",
      "API call was successfull, spoke signature for patient 12 is available in 'spoke_sig' variable\n",
      "API call was successfull, spoke signature for patient 13 is available in 'spoke_sig' variable\n",
      "API call was successfull, spoke signature for patient 14 is available in 'spoke_sig' variable\n"
     ]
    }
   ],
   "source": [
    "patients_seen, spoke_sigs = make_spoke_sigs(random_patient_concepts)\n",
    "\n",
    "# filter patients w/o SPOKEsigs\n",
    "if len(random_patient_concepts) > len(patients_seen):\n",
    "    random_patient_concepts = random_patient_concepts[random_patient_concepts.Patient_Index.isin(patients_seen)]\n",
    "    random_patient_concepts.loc[:,'Patient_Index'] = np.arange(len(random_patient_concepts))\n",
    "\n",
    "# save patient info and SPOKEsigs\n",
    "np.save(new_patient_spokesig_filename, spoke_sigs, allow_pickle=False)\n",
    "random_patient_concepts.to_csv(new_patient_info_filename, sep='\\t', header=True, index=False)"
   ]
  },
  {
   "cell_type": "code",
   "execution_count": null,
   "metadata": {},
   "outputs": [],
   "source": []
  }
 ],
 "metadata": {
  "kernelspec": {
   "display_name": "Python 3",
   "language": "python",
   "name": "python3"
  },
  "language_info": {
   "codemirror_mode": {
    "name": "ipython",
    "version": 3
   },
   "file_extension": ".py",
   "mimetype": "text/x-python",
   "name": "python",
   "nbconvert_exporter": "python",
   "pygments_lexer": "ipython3",
   "version": "3.7.4"
  }
 },
 "nbformat": 4,
 "nbformat_minor": 2
}
