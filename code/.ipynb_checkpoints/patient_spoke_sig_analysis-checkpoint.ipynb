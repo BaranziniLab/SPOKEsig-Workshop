{
 "cells": [
  {
   "cell_type": "markdown",
   "metadata": {},
   "source": [
    "# Import modules"
   ]
  },
  {
   "cell_type": "code",
   "execution_count": 1,
   "metadata": {},
   "outputs": [],
   "source": [
    "import numpy as np\n",
    "import pandas as pd\n",
    "from scipy import stats\n",
    "from scipy.spatial.distance import cdist, pdist, squareform\n",
    "from sklearn.decomposition import PCA\n",
    "from sklearn.manifold import TSNE\n",
    "import subprocess\n",
    "import time\n",
    "import multiprocessing as mp\n",
    "import matplotlib.pyplot as plt\n",
    "import os\n",
    "from collections import Counter\n",
    "import seaborn as sns\n",
    "import io\n",
    "import requests\n",
    "from sklearn.ensemble import RandomForestClassifier\n",
    "import joblib"
   ]
  },
  {
   "cell_type": "markdown",
   "metadata": {},
   "source": [
    "# Initialize file paths"
   ]
  },
  {
   "cell_type": "code",
   "execution_count": 2,
   "metadata": {},
   "outputs": [],
   "source": [
    "data_path = os.path.join(os.path.dirname(os.getcwd()),'data')\n",
    "model_path = os.path.join(os.path.dirname(os.getcwd()),'model')\n",
    "node_info_file = os.path.join(data_path, 'node_info_df.tsv')\n",
    "workshop_psev_file = os.path.join(data_path, 'workshop_psevs.npy')\n",
    "int_cohort_filename = os.path.join(data_path, 'example_cohort.tsv')\n",
    "int_spoke_sig_filename = os.path.join(data_path, 'example_spoke_sigs.npy')\n",
    "mean_sig_file = os.path.join(data_path, 'mean_sig.npy')\n",
    "std_sig_file = os.path.join(data_path, 'std_sig.npy')\n",
    "patient_to_disease_dist_file = os.path.join(data_path, 'patient_to_disease_dist.npy')\n",
    "new_patient_info_filename = os.path.join(data_path, 'random_patient_info.tsv')\n",
    "new_patient_spokesig_filename = os.path.join(data_path, 'random_patient_spokesigs.npy')\n",
    "mean_node_val_filename = os.path.join(data_path, 'mean_node_val_df.tsv')\n",
    "random_forest_model = os.path.join(model_path, 'random_forest_bc_cc_ibd.joblib')"
   ]
  },
  {
   "cell_type": "markdown",
   "metadata": {},
   "source": [
    "# Load SPOKE file"
   ]
  },
  {
   "cell_type": "code",
   "execution_count": 3,
   "metadata": {},
   "outputs": [
    {
     "name": "stdout",
     "output_type": "stream",
     "text": [
      "loading SPOKE nodes ...\n",
      "loading Disease PSEVs for workshop ...\n"
     ]
    }
   ],
   "source": [
    "print('loading SPOKE nodes ...')\n",
    "node_info_df = pd.read_csv(node_info_file, sep='\\t', header=0, index_col=False)\n",
    "\n",
    "# Diseases for workshop\n",
    "diseases = ['DOID:9778', 'DOID:1612', 'DOID:219']\n",
    "disease_names = ['_'.join(node_info_df[node_info_df.Node==disease].Node_Name.values[0].split()) for disease in diseases]\n",
    "\n",
    "print('loading Disease PSEVs for workshop ...')\n",
    "psev_matrix = np.load(workshop_psev_file, allow_pickle=False)"
   ]
  },
  {
   "cell_type": "markdown",
   "metadata": {},
   "source": [
    "# Load initial cohort"
   ]
  },
  {
   "cell_type": "code",
   "execution_count": 12,
   "metadata": {},
   "outputs": [
    {
     "data": {
      "text/html": [
       "<div>\n",
       "<style scoped>\n",
       "    .dataframe tbody tr th:only-of-type {\n",
       "        vertical-align: middle;\n",
       "    }\n",
       "\n",
       "    .dataframe tbody tr th {\n",
       "        vertical-align: top;\n",
       "    }\n",
       "\n",
       "    .dataframe thead th {\n",
       "        text-align: right;\n",
       "    }\n",
       "</style>\n",
       "<table border=\"1\" class=\"dataframe\">\n",
       "  <thead>\n",
       "    <tr style=\"text-align: right;\">\n",
       "      <th></th>\n",
       "      <th>person_id</th>\n",
       "      <th>gender_source_value</th>\n",
       "      <th>race_source_value</th>\n",
       "      <th>ethnicity_source_value</th>\n",
       "      <th>age</th>\n",
       "      <th>Disease</th>\n",
       "      <th>OMOP_Count</th>\n",
       "      <th>SEP_Count</th>\n",
       "      <th>Patient_Index</th>\n",
       "      <th>label</th>\n",
       "    </tr>\n",
       "  </thead>\n",
       "  <tbody>\n",
       "    <tr>\n",
       "      <th>0</th>\n",
       "      <td>54515</td>\n",
       "      <td>Female</td>\n",
       "      <td>White or Caucasian</td>\n",
       "      <td>Not Hispanic or Latino</td>\n",
       "      <td>17.0</td>\n",
       "      <td>irritable_bowel_syndrome</td>\n",
       "      <td>34.0</td>\n",
       "      <td>19.0</td>\n",
       "      <td>0</td>\n",
       "      <td>0</td>\n",
       "    </tr>\n",
       "    <tr>\n",
       "      <th>1</th>\n",
       "      <td>105290</td>\n",
       "      <td>Female</td>\n",
       "      <td>White or Caucasian</td>\n",
       "      <td>Not Hispanic or Latino</td>\n",
       "      <td>24.0</td>\n",
       "      <td>irritable_bowel_syndrome</td>\n",
       "      <td>59.0</td>\n",
       "      <td>28.0</td>\n",
       "      <td>1</td>\n",
       "      <td>0</td>\n",
       "    </tr>\n",
       "    <tr>\n",
       "      <th>2</th>\n",
       "      <td>166147</td>\n",
       "      <td>Male</td>\n",
       "      <td>Native Hawaiian or Other Pacific Islander</td>\n",
       "      <td>Not Hispanic or Latino</td>\n",
       "      <td>42.0</td>\n",
       "      <td>irritable_bowel_syndrome</td>\n",
       "      <td>91.0</td>\n",
       "      <td>57.0</td>\n",
       "      <td>2</td>\n",
       "      <td>0</td>\n",
       "    </tr>\n",
       "    <tr>\n",
       "      <th>3</th>\n",
       "      <td>179907</td>\n",
       "      <td>Female</td>\n",
       "      <td>White or Caucasian</td>\n",
       "      <td>Not Hispanic or Latino</td>\n",
       "      <td>51.0</td>\n",
       "      <td>irritable_bowel_syndrome</td>\n",
       "      <td>97.0</td>\n",
       "      <td>51.0</td>\n",
       "      <td>3</td>\n",
       "      <td>0</td>\n",
       "    </tr>\n",
       "    <tr>\n",
       "      <th>4</th>\n",
       "      <td>182799</td>\n",
       "      <td>Female</td>\n",
       "      <td>Unknown</td>\n",
       "      <td>Not Hispanic or Latino</td>\n",
       "      <td>55.0</td>\n",
       "      <td>irritable_bowel_syndrome</td>\n",
       "      <td>93.0</td>\n",
       "      <td>98.0</td>\n",
       "      <td>4</td>\n",
       "      <td>0</td>\n",
       "    </tr>\n",
       "  </tbody>\n",
       "</table>\n",
       "</div>"
      ],
      "text/plain": [
       "   person_id gender_source_value                          race_source_value  \\\n",
       "0      54515              Female                         White or Caucasian   \n",
       "1     105290              Female                         White or Caucasian   \n",
       "2     166147                Male  Native Hawaiian or Other Pacific Islander   \n",
       "3     179907              Female                         White or Caucasian   \n",
       "4     182799              Female                                    Unknown   \n",
       "\n",
       "   ethnicity_source_value   age                   Disease  OMOP_Count  \\\n",
       "0  Not Hispanic or Latino  17.0  irritable_bowel_syndrome        34.0   \n",
       "1  Not Hispanic or Latino  24.0  irritable_bowel_syndrome        59.0   \n",
       "2  Not Hispanic or Latino  42.0  irritable_bowel_syndrome        91.0   \n",
       "3  Not Hispanic or Latino  51.0  irritable_bowel_syndrome        97.0   \n",
       "4  Not Hispanic or Latino  55.0  irritable_bowel_syndrome        93.0   \n",
       "\n",
       "   SEP_Count  Patient_Index  label  \n",
       "0       19.0              0      0  \n",
       "1       28.0              1      0  \n",
       "2       57.0              2      0  \n",
       "3       51.0              3      0  \n",
       "4       98.0              4      0  "
      ]
     },
     "execution_count": 12,
     "metadata": {},
     "output_type": "execute_result"
    }
   ],
   "source": [
    "example_cohort = pd.read_csv(int_cohort_filename, sep='\\t', header=0, index_col=False)\n",
    "example_cohort.loc[:,'label'] = example_cohort.Disease.map(dict(zip(diseases, np.arange(len(diseases)))))\n",
    "example_cohort = example_cohort.replace(dict(zip(diseases, disease_names)))\n",
    "example_cohort.head()"
   ]
  },
  {
   "cell_type": "markdown",
   "metadata": {},
   "source": [
    "# Look at cohort demographics"
   ]
  },
  {
   "cell_type": "code",
   "execution_count": 5,
   "metadata": {
    "collapsed": true
   },
   "outputs": [
    {
     "data": {
      "image/png": "[encoded data removed]",
      "text/plain": [
       "<Figure size 432x288 with 1 Axes>"
      ]
     },
     "metadata": {
      "needs_background": "light"
     },
     "output_type": "display_data"
    },
    {
     "data": {
      "image/png": "[encoded data removed]",
      "text/plain": [
       "<Figure size 432x288 with 1 Axes>"
      ]
     },
     "metadata": {
      "needs_background": "light"
     },
     "output_type": "display_data"
    },
    {
     "data": {
      "image/png": "[encoded data removed]",
      "text/plain": [
       "<Figure size 432x288 with 1 Axes>"
      ]
     },
     "metadata": {
      "needs_background": "light"
     },
     "output_type": "display_data"
    }
   ],
   "source": []
  },
  {
   "cell_type": "markdown",
   "metadata": {},
   "source": [
    "# Look at cohort continuous variables"
   ]
  },
  {
   "cell_type": "code",
   "execution_count": 9,
   "metadata": {
    "collapsed": true
   },
   "outputs": [
    {
     "data": {
      "image/png": "[encoded data removed]",
      "text/plain": [
       "<Figure size 432x288 with 1 Axes>"
      ]
     },
     "metadata": {
      "needs_background": "light"
     },
     "output_type": "display_data"
    },
    {
     "data": {
      "image/png": "[encoded data removed]",
      "text/plain": [
       "<Figure size 432x288 with 1 Axes>"
      ]
     },
     "metadata": {
      "needs_background": "light"
     },
     "output_type": "display_data"
    },
    {
     "data": {
      "image/png": "[encoded data removed]",
      "text/plain": [
       "<Figure size 432x288 with 1 Axes>"
      ]
     },
     "metadata": {
      "needs_background": "light"
     },
     "output_type": "display_data"
    }
   ],
   "source": []
  },
  {
   "cell_type": "markdown",
   "metadata": {},
   "source": [
    "# Custom function to compute statistics of initial cohort's SPOKEsigs "
   ]
  },
  {
   "cell_type": "code",
   "execution_count": 13,
   "metadata": {},
   "outputs": [],
   "source": [
    "def load_or_make_spokesig_mean_std_dist(node_info_df, example_cohort, diseases, disease_names, load_data=True):\n",
    "    if load_data == False:\n",
    "        # load spoke sigs\n",
    "        spoke_sigs = np.load(int_spoke_sig_filename, allow_pickle=False)\n",
    "        mean_sig = np.mean(spoke_sigs, axis=0)\n",
    "        # get mean of SPOKEsigs\n",
    "        np.save(mean_sig_file, mean_sig, allow_pickle=False)\n",
    "        # get std of SPOKEsigs\n",
    "        std_sig = np.std(spoke_sigs, axis=0)\n",
    "        np.save(std_sig_file, std_sig, allow_pickle=False)\n",
    "        # convert to z score (saving mean and std)\n",
    "        spoke_sigs = np.nan_to_num((spoke_sigs-mean_sig)/std_sig)\n",
    "        # create distance matrix\n",
    "        patient_to_disease_dist = cdist(spoke_sigs, psev_matrix, metric='cosine')\n",
    "        np.save(patient_to_disease_dist_file, patient_to_disease_dist, allow_pickle=False)\n",
    "        # mean node value per disease\n",
    "        mean_node_val_df = node_info_df.drop_duplicates()\n",
    "        for disease, name in zip(diseases, disease_names):\n",
    "            mean_node_val_df.loc[:,name] = np.mean(spoke_sigs[example_cohort[example_cohort.Disease==disease].Patient_Index.values], axis=0)\n",
    "        del spoke_sigs\n",
    "        mean_node_val_df.to_csv('mean_node_val_df.tsv', sep='\\t', header=True, index=False)\n",
    "    else:\n",
    "        mean_sig = np.load(mean_sig_file, allow_pickle=False)\n",
    "        std_sig = np.load(std_sig_file, allow_pickle=False)\n",
    "        patient_to_disease_dist = np.load(patient_to_disease_dist_file, allow_pickle=False)\n",
    "    return mean_sig, std_sig, patient_to_disease_dist"
   ]
  },
  {
   "cell_type": "markdown",
   "metadata": {},
   "source": [
    "# Load initial cohort SPOKEsigs data"
   ]
  },
  {
   "cell_type": "code",
   "execution_count": 14,
   "metadata": {},
   "outputs": [],
   "source": [
    "mean_sig, std_sig, patient_to_disease_dist = load_or_make_spokesig_mean_std_dist(node_info_df, example_cohort, diseases, disease_names, load_data=True)"
   ]
  },
  {
   "cell_type": "markdown",
   "metadata": {},
   "source": [
    "# Compare patients to disease PSEVs"
   ]
  },
  {
   "cell_type": "code",
   "execution_count": 18,
   "metadata": {
    "scrolled": true
   },
   "outputs": [
    {
     "name": "stdout",
     "output_type": "stream",
     "text": [
      "355\n"
     ]
    },
    {
     "data": {
      "text/html": [
       "<div>\n",
       "<style scoped>\n",
       "    .dataframe tbody tr th:only-of-type {\n",
       "        vertical-align: middle;\n",
       "    }\n",
       "\n",
       "    .dataframe tbody tr th {\n",
       "        vertical-align: top;\n",
       "    }\n",
       "\n",
       "    .dataframe thead th {\n",
       "        text-align: right;\n",
       "    }\n",
       "</style>\n",
       "<table border=\"1\" class=\"dataframe\">\n",
       "  <thead>\n",
       "    <tr style=\"text-align: right;\">\n",
       "      <th></th>\n",
       "      <th>Disease</th>\n",
       "      <th>pred</th>\n",
       "      <th>Patient_Index</th>\n",
       "    </tr>\n",
       "  </thead>\n",
       "  <tbody>\n",
       "    <tr>\n",
       "      <th>0</th>\n",
       "      <td>breast_cancer</td>\n",
       "      <td>breast_cancer</td>\n",
       "      <td>95</td>\n",
       "    </tr>\n",
       "    <tr>\n",
       "      <th>1</th>\n",
       "      <td>breast_cancer</td>\n",
       "      <td>colon_cancer</td>\n",
       "      <td>5</td>\n",
       "    </tr>\n",
       "    <tr>\n",
       "      <th>2</th>\n",
       "      <td>breast_cancer</td>\n",
       "      <td>irritable_bowel_syndrome</td>\n",
       "      <td>50</td>\n",
       "    </tr>\n",
       "    <tr>\n",
       "      <th>3</th>\n",
       "      <td>colon_cancer</td>\n",
       "      <td>breast_cancer</td>\n",
       "      <td>6</td>\n",
       "    </tr>\n",
       "    <tr>\n",
       "      <th>4</th>\n",
       "      <td>colon_cancer</td>\n",
       "      <td>colon_cancer</td>\n",
       "      <td>122</td>\n",
       "    </tr>\n",
       "    <tr>\n",
       "      <th>5</th>\n",
       "      <td>colon_cancer</td>\n",
       "      <td>irritable_bowel_syndrome</td>\n",
       "      <td>22</td>\n",
       "    </tr>\n",
       "    <tr>\n",
       "      <th>6</th>\n",
       "      <td>irritable_bowel_syndrome</td>\n",
       "      <td>breast_cancer</td>\n",
       "      <td>5</td>\n",
       "    </tr>\n",
       "    <tr>\n",
       "      <th>7</th>\n",
       "      <td>irritable_bowel_syndrome</td>\n",
       "      <td>colon_cancer</td>\n",
       "      <td>7</td>\n",
       "    </tr>\n",
       "    <tr>\n",
       "      <th>8</th>\n",
       "      <td>irritable_bowel_syndrome</td>\n",
       "      <td>irritable_bowel_syndrome</td>\n",
       "      <td>138</td>\n",
       "    </tr>\n",
       "  </tbody>\n",
       "</table>\n",
       "</div>"
      ],
      "text/plain": [
       "                    Disease                      pred  Patient_Index\n",
       "0             breast_cancer             breast_cancer             95\n",
       "1             breast_cancer              colon_cancer              5\n",
       "2             breast_cancer  irritable_bowel_syndrome             50\n",
       "3              colon_cancer             breast_cancer              6\n",
       "4              colon_cancer              colon_cancer            122\n",
       "5              colon_cancer  irritable_bowel_syndrome             22\n",
       "6  irritable_bowel_syndrome             breast_cancer              5\n",
       "7  irritable_bowel_syndrome              colon_cancer              7\n",
       "8  irritable_bowel_syndrome  irritable_bowel_syndrome            138"
      ]
     },
     "execution_count": 18,
     "metadata": {},
     "output_type": "execute_result"
    }
   ],
   "source": [
    "# find closest disease to patient\n",
    "best_match = np.array(np.array(disease_names)[np.argmin(patient_to_disease_dist, axis=1)])\n",
    "print(np.sum(example_cohort.Disease.values==best_match))\n",
    "#\n",
    "# check if closest disease is correct\n",
    "example_cohort.loc[:,'pred'] = best_match\n",
    "example_cohort.loc[:,'match_correct'] = example_cohort.Disease.values == example_cohort.pred.values\n",
    "match_stats_df = example_cohort[['Patient_Index', 'Disease', 'pred']].groupby(['Disease','pred']).count().reset_index()\n",
    "match_stats_df"
   ]
  },
  {
   "cell_type": "markdown",
   "metadata": {},
   "source": [
    "# Visualize cohort in 3d \n",
    "(based on distance to diseases)"
   ]
  },
  {
   "cell_type": "code",
   "execution_count": 20,
   "metadata": {
    "collapsed": true
   },
   "outputs": [
    {
     "data": {
      "image/png": "[encoded data removed]",
      "text/plain": [
       "<Figure size 432x288 with 1 Axes>"
      ]
     },
     "metadata": {
      "needs_background": "light"
     },
     "output_type": "display_data"
    }
   ],
   "source": [
    "fig = plt.figure()\n",
    "ax = fig.add_subplot(projection='3d')\n",
    "for disease, name in zip(diseases, disease_names):\n",
    "    pats = example_cohort[example_cohort.Disease==name].Patient_Index.values\n",
    "#     Refer: https://seaborn.pydata.org/generated/seaborn.boxplot.html\n",
    "    plt.scatter()\n",
    "plt.legend()\n",
    "plt.show()"
   ]
  },
  {
   "cell_type": "markdown",
   "metadata": {},
   "source": [
    "# Load new patients from API"
   ]
  },
  {
   "cell_type": "code",
   "execution_count": 23,
   "metadata": {},
   "outputs": [
    {
     "name": "stdout",
     "output_type": "stream",
     "text": [
      "new patient data is loaded\n",
      "normalizing new patients ...\n"
     ]
    }
   ],
   "source": [
    "try:    \n",
    "    new_cohort = pd.read_csv(new_patient_info_filename, sep='\\t', header=0, index_col=False)\n",
    "    print('new patient data is loaded')\n",
    "    new_cohort.loc[:,'label'] = new_cohort.Disease.map(dict(zip(diseases, np.arange(len(diseases)))))\n",
    "    new_cohort = new_cohort.replace(dict(zip(diseases, disease_names)))\n",
    "    new_spoke_sigs = np.load(new_patient_spokesig_filename, allow_pickle=False)\n",
    "    print('normalizing new patients ...')\n",
    "    new_spoke_sigs = (new_spoke_sigs-mean_sig)/std_sig\n",
    "    new_cohort.head()\n",
    "except FileNotFoundError:\n",
    "    print('SPOKE sigs of new patients have not been yet created using API. Run that first using \"get_patient_spoke_sig_using_API.ipynb\", before proceeding further.')"
   ]
  },
  {
   "cell_type": "markdown",
   "metadata": {},
   "source": [
    "# Compare new patients to disease PSEVs"
   ]
  },
  {
   "cell_type": "code",
   "execution_count": 26,
   "metadata": {},
   "outputs": [
    {
     "data": {
      "text/html": [
       "<div>\n",
       "<style scoped>\n",
       "    .dataframe tbody tr th:only-of-type {\n",
       "        vertical-align: middle;\n",
       "    }\n",
       "\n",
       "    .dataframe tbody tr th {\n",
       "        vertical-align: top;\n",
       "    }\n",
       "\n",
       "    .dataframe thead th {\n",
       "        text-align: right;\n",
       "    }\n",
       "</style>\n",
       "<table border=\"1\" class=\"dataframe\">\n",
       "  <thead>\n",
       "    <tr style=\"text-align: right;\">\n",
       "      <th></th>\n",
       "      <th>Disease</th>\n",
       "      <th>pred</th>\n",
       "      <th>Patient_Index</th>\n",
       "    </tr>\n",
       "  </thead>\n",
       "  <tbody>\n",
       "    <tr>\n",
       "      <th>0</th>\n",
       "      <td>breast_cancer</td>\n",
       "      <td>breast_cancer</td>\n",
       "      <td>3</td>\n",
       "    </tr>\n",
       "    <tr>\n",
       "      <th>1</th>\n",
       "      <td>breast_cancer</td>\n",
       "      <td>irritable_bowel_syndrome</td>\n",
       "      <td>2</td>\n",
       "    </tr>\n",
       "    <tr>\n",
       "      <th>2</th>\n",
       "      <td>colon_cancer</td>\n",
       "      <td>irritable_bowel_syndrome</td>\n",
       "      <td>5</td>\n",
       "    </tr>\n",
       "    <tr>\n",
       "      <th>3</th>\n",
       "      <td>irritable_bowel_syndrome</td>\n",
       "      <td>irritable_bowel_syndrome</td>\n",
       "      <td>5</td>\n",
       "    </tr>\n",
       "  </tbody>\n",
       "</table>\n",
       "</div>"
      ],
      "text/plain": [
       "                    Disease                      pred  Patient_Index\n",
       "0             breast_cancer             breast_cancer              3\n",
       "1             breast_cancer  irritable_bowel_syndrome              2\n",
       "2              colon_cancer  irritable_bowel_syndrome              5\n",
       "3  irritable_bowel_syndrome  irritable_bowel_syndrome              5"
      ]
     },
     "execution_count": 26,
     "metadata": {},
     "output_type": "execute_result"
    }
   ],
   "source": [
    "new_patient_to_disease_dist = cdist(new_spoke_sigs, psev_matrix, metric='cosine')\n",
    "#\n",
    "best_match = np.array(np.array(disease_names)[np.argmin(new_patient_to_disease_dist, axis=1)])\n",
    "# print(np.sum(new_cohort.Disease.values==best_match)/len(new_cohort))\n",
    "#\n",
    "new_cohort.loc[:,'pred'] = best_match\n",
    "new_cohort.loc[:,'match_correct'] = new_cohort.Disease.values == new_cohort.pred.values\n",
    "match_stats_df = new_cohort[['Patient_Index', 'Disease', 'pred']].groupby(['Disease','pred']).count().reset_index()\n",
    "match_stats_df"
   ]
  },
  {
   "cell_type": "markdown",
   "metadata": {},
   "source": [
    "# Load pre-trained random forest classifier (using initial cohort)"
   ]
  },
  {
   "cell_type": "code",
   "execution_count": null,
   "metadata": {},
   "outputs": [],
   "source": [
    "clf = joblib.load(random_forest_model)"
   ]
  },
  {
   "cell_type": "markdown",
   "metadata": {},
   "source": [
    "# Test Random Forest Classifier using new patients"
   ]
  },
  {
   "cell_type": "code",
   "execution_count": null,
   "metadata": {},
   "outputs": [],
   "source": [
    "pred = clf.predict(new_spoke_sigs)\n",
    "print(np.sum(new_cohort.sort_values('Patient_Index').label.values==pred)/len(new_cohort)) #0.9333333333333333"
   ]
  },
  {
   "cell_type": "markdown",
   "metadata": {},
   "source": [
    "# Create node importance table"
   ]
  },
  {
   "cell_type": "code",
   "execution_count": null,
   "metadata": {},
   "outputs": [],
   "source": [
    "classifier_results = pd.read_csv(mean_node_val_filename, sep='\\t', header=0, index_col=False)\n",
    "classifier_results.loc[:,'feature_importance'] = clf.feature_importances_\n"
   ]
  },
  {
   "cell_type": "markdown",
   "metadata": {},
   "source": [
    "# Set a threshold for node importance"
   ]
  },
  {
   "cell_type": "code",
   "execution_count": null,
   "metadata": {},
   "outputs": [],
   "source": [
    "# select % threshold\n",
    "thresh_percentile = 99\n",
    "feature_thresh = np.percentile(classifier_results.feature_importance.values, thresh_percentile)\n",
    "# select number of rows to show\n",
    "top_n=50"
   ]
  },
  {
   "cell_type": "markdown",
   "metadata": {},
   "source": [
    "# Look at key nodes for IBS"
   ]
  },
  {
   "cell_type": "markdown",
   "metadata": {},
   "source": [
    "These are the top IBS nodes that pass feature importance threshold\n",
    "sorted by their avg significance in the IBS cohort"
   ]
  },
  {
   "cell_type": "code",
   "execution_count": null,
   "metadata": {
    "scrolled": true
   },
   "outputs": [],
   "source": [
    "col = 'irritable_bowel_syndrome'\n",
    "classifier_results[classifier_results.feature_importance>feature_thresh].sort_values(col, ascending=False).head(top_n)"
   ]
  },
  {
   "cell_type": "markdown",
   "metadata": {},
   "source": [
    "These are the top IBS nodes that pass feature importance and IBS avg sig thresholds. Nodes are sorted by their feature importance for the RF classifier"
   ]
  },
  {
   "cell_type": "code",
   "execution_count": null,
   "metadata": {
    "scrolled": true
   },
   "outputs": [],
   "source": [
    "thresh = np.percentile(classifier_results[col].values, thresh_percentile)\n",
    "classifier_results[(classifier_results.feature_importance>feature_thresh)&(classifier_results[col]>thresh)].sort_values('feature_importance', ascending=False).head(top_n)"
   ]
  },
  {
   "cell_type": "markdown",
   "metadata": {},
   "source": [
    "# Look at key nodes for breast cancer"
   ]
  },
  {
   "cell_type": "markdown",
   "metadata": {},
   "source": [
    "These are the top breast cancer nodes that pass feature importance threshold sorted by their avg significance in the breast cancer cohort"
   ]
  },
  {
   "cell_type": "code",
   "execution_count": null,
   "metadata": {
    "scrolled": true
   },
   "outputs": [],
   "source": [
    "col = 'breast_cancer'\n",
    "classifier_results[classifier_results.feature_importance>feature_thresh].sort_values(col, ascending=False).head(top_n)"
   ]
  },
  {
   "cell_type": "markdown",
   "metadata": {},
   "source": [
    "These are the top breast cancer nodes that pass feature importance and breast cancer avg sig thresholds. Nodes are sorted by their feature importance for the RF classifier"
   ]
  },
  {
   "cell_type": "code",
   "execution_count": null,
   "metadata": {
    "scrolled": true
   },
   "outputs": [],
   "source": [
    "thresh = np.percentile(classifier_results[col].values, thresh_percentile)\n",
    "classifier_results[(classifier_results.feature_importance>feature_thresh)&(classifier_results[col]>thresh)].sort_values('feature_importance', ascending=False).head(top_n)"
   ]
  },
  {
   "cell_type": "markdown",
   "metadata": {},
   "source": [
    "# Look at key nodes for colon cancer"
   ]
  },
  {
   "cell_type": "markdown",
   "metadata": {},
   "source": [
    "These are the top colon cancer nodes that pass feature importance threshold sorted by their avg significance in the colon cancer cohort"
   ]
  },
  {
   "cell_type": "code",
   "execution_count": null,
   "metadata": {
    "scrolled": true
   },
   "outputs": [],
   "source": [
    "col = 'colon_cancer'\n",
    "classifier_results[classifier_results.feature_importance>feature_thresh].sort_values(col, ascending=False).head(top_n)"
   ]
  },
  {
   "cell_type": "markdown",
   "metadata": {},
   "source": [
    "These are the top colon cancer nodes that pass feature importance and colon cancer avg sig thresholds. Nodes are sorted by their feature importance for the RF classifier"
   ]
  },
  {
   "cell_type": "code",
   "execution_count": null,
   "metadata": {
    "scrolled": true
   },
   "outputs": [],
   "source": [
    "thresh = np.percentile(classifier_results[col].values, thresh_percentile)\n",
    "classifier_results[(classifier_results.feature_importance>feature_thresh)&(classifier_results[col]>thresh)].sort_values('feature_importance', ascending=False).head(top_n)"
   ]
  }
 ],
 "metadata": {
  "kernelspec": {
   "display_name": "Python 3",
   "language": "python",
   "name": "python3"
  },
  "language_info": {
   "codemirror_mode": {
    "name": "ipython",
    "version": 3
   },
   "file_extension": ".py",
   "mimetype": "text/x-python",
   "name": "python",
   "nbconvert_exporter": "python",
   "pygments_lexer": "ipython3",
   "version": "3.7.4"
  }
 },
 "nbformat": 4,
 "nbformat_minor": 4
}
