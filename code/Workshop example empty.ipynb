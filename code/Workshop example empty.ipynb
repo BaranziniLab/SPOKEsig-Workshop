{
 "cells": [
  {
   "cell_type": "markdown",
   "metadata": {},
   "source": [
    "# Import modules and SPOKE node info"
   ]
  },
  {
   "cell_type": "code",
   "execution_count": null,
   "metadata": {},
   "outputs": [],
   "source": [
    "import numpy as np\n",
    "import pandas as pd\n",
    "from scipy import stats\n",
    "from scipy.spatial.distance import cdist, pdist, squareform\n",
    "from sklearn.decomposition import PCA\n",
    "from sklearn.manifold import TSNE\n",
    "import subprocess\n",
    "import time\n",
    "import multiprocessing as mp\n",
    "import matplotlib.pyplot as plt\n",
    "import os\n",
    "from collections import Counter\n",
    "import seaborn as sns\n",
    "import io\n",
    "import requests\n",
    "from sklearn.ensemble import RandomForestClassifier\n",
    "import joblib\n",
    "\n",
    "#\n",
    "# load SPOKE nodes\n",
    "node_info_df = pd.read_csv('node_info_df.tsv', sep='\\t', header=0, index_col=False)\n",
    "#\n",
    "# Diseases for workshop\n",
    "diseases = ['DOID:9778', 'DOID:1612', 'DOID:219']\n",
    "disease_names = ['_'.join(node_info_df[node_info_df.Node==disease].Node_Name.values[0].split()) for disease in diseases]\n",
    "#\n",
    "# Disease PSEVs for workshop\n",
    "psev_matrix = np.load('workshop_psevs.npy', allow_pickle=False)\n",
    "\n",
    "\n",
    "def load_or_make_spokesig_mean_std_dist(node_info_df, example_cohort, diseases, disease_names, load_data=True):\n",
    "    if load_data == False:\n",
    "        # load spoke sigs\n",
    "        spoke_sigs = np.load(int_spoke_sig_filename, allow_pickle=False)\n",
    "        mean_sig = np.mean(spoke_sigs, axis=0)\n",
    "        # get mean of SPOKEsigs\n",
    "        np.save('mean_sig', mean_sig, allow_pickle=False)\n",
    "        # get std of SPOKEsigs\n",
    "        std_sig = np.std(spoke_sigs, axis=0)\n",
    "        np.save('std_sig', std_sig, allow_pickle=False)\n",
    "        # convert to z score (saving mean and std)\n",
    "        spoke_sigs = np.nan_to_num((spoke_sigs-mean_sig)/std_sig)\n",
    "        # create distance matrix\n",
    "        patient_to_disease_dist = cdist(spoke_sigs, psev_matrix, metric='cosine')\n",
    "        np.save('patient_to_disease_dist', patient_to_disease_dist, allow_pickle=False)\n",
    "        # mean node value per disease\n",
    "        mean_node_val_df = node_info_df.drop_duplicates()\n",
    "        for disease, name in zip(diseases, disease_names):\n",
    "            mean_node_val_df.loc[:,name] = np.mean(spoke_sigs[example_cohort[example_cohort.Disease==disease].Patient_Index.values], axis=0)\n",
    "        del spoke_sigs\n",
    "        mean_node_val_df.to_csv('mean_node_val_df.tsv', sep='\\t', header=True, index=False)\n",
    "    else:\n",
    "        mean_sig = np.load('mean_sig.npy', allow_pickle=False)\n",
    "        std_sig = np.load('std_sig.npy', allow_pickle=False)\n",
    "        patient_to_disease_dist = np.load('patient_to_disease_dist.npy', allow_pickle=False)\n",
    "    return mean_sig, std_sig, patient_to_disease_dist\n",
    "\n"
   ]
  },
  {
   "cell_type": "markdown",
   "metadata": {},
   "source": [
    "# Load initial cohort"
   ]
  },
  {
   "cell_type": "code",
   "execution_count": null,
   "metadata": {},
   "outputs": [],
   "source": [
    "int_cohort_filename, int_spoke_sig_filename = 'example_cohort.tsv', 'example_spoke_sigs.npy'\n",
    "\n",
    "example_cohort = pd.read_csv(int_cohort_filename, sep='\\t', header=0, index_col=False)\n",
    "example_cohort.loc[:,'label'] = example_cohort.Disease.map(dict(zip(diseases, np.arange(len(diseases)))))\n",
    "example_cohort.head()"
   ]
  },
  {
   "cell_type": "markdown",
   "metadata": {},
   "source": [
    "# Look at cohort demographics"
   ]
  },
  {
   "cell_type": "code",
   "execution_count": null,
   "metadata": {
    "scrolled": true
   },
   "outputs": [],
   "source": [
    "for col in ['gender_source_value','race_source_value','ethnicity_source_value']:\n",
    "    df = example_cohort[['Disease', col, 'person_id']].groupby(['Disease', col]).count().reset_index().rename(index=str, columns={'person_id':'Count'})\n",
    "    ax=sns.barplot(x='Disease', y='Count', hue=col, data=df)\n",
    "    plt.show()"
   ]
  },
  {
   "cell_type": "markdown",
   "metadata": {},
   "source": [
    "# Look at cohort continuous variables"
   ]
  },
  {
   "cell_type": "code",
   "execution_count": null,
   "metadata": {
    "scrolled": true
   },
   "outputs": [],
   "source": [
    "for col in ['age', 'OMOP_Count', 'SEP_Count']:\n",
    "    ax=sns.boxplot(x='Disease', y='age', data=example_cohort)\n",
    "    plt.show()"
   ]
  },
  {
   "cell_type": "markdown",
   "metadata": {},
   "source": [
    "# Load initial cohort SPOKEsigs data"
   ]
  },
  {
   "cell_type": "code",
   "execution_count": null,
   "metadata": {},
   "outputs": [],
   "source": [
    "mean_sig, std_sig, patient_to_disease_dist = load_or_make_spokesig_mean_std_dist(node_info_df, example_cohort, diseases, disease_names, load_data=True)"
   ]
  },
  {
   "cell_type": "markdown",
   "metadata": {},
   "source": [
    "# Compare patients to disease PSEVs"
   ]
  },
  {
   "cell_type": "code",
   "execution_count": null,
   "metadata": {
    "scrolled": true
   },
   "outputs": [],
   "source": [
    "# find closest disease to patient\n",
    "best_match = np.array(np.array(diseases)[np.argmin(patient_to_disease_dist, axis=1)])\n",
    "print(np.sum(example_cohort.Disease.values==best_match))\n",
    "#\n",
    "# check if closest disease is correct\n",
    "example_cohort.loc[:,'pred'] = best_match\n",
    "example_cohort.loc[:,'match_correct'] = example_cohort.Disease.values == example_cohort.pred.values\n",
    "match_stats_df = example_cohort[['Patient_Index', 'Disease', 'pred']].groupby(['Disease','pred']).count().reset_index()\n",
    "match_stats_df"
   ]
  },
  {
   "cell_type": "markdown",
   "metadata": {},
   "source": [
    "# Visualize cohort in 3d \n",
    "(based on distance to diseases)"
   ]
  },
  {
   "cell_type": "code",
   "execution_count": null,
   "metadata": {},
   "outputs": [],
   "source": [
    "fig = plt.figure()\n",
    "ax = fig.add_subplot(projection='3d')\n",
    "for disease, name in zip(diseases, disease_names):\n",
    "    pats = example_cohort[example_cohort.Disease==disease].Patient_Index.values\n",
    "    plt.scatter(patient_to_disease_dist[:,0][pats], patient_to_disease_dist[:,1][pats], patient_to_disease_dist[:,2][pats], label=name)\n",
    "plt.legend()\n",
    "plt.show()"
   ]
  },
  {
   "cell_type": "markdown",
   "metadata": {},
   "source": [
    "# Load new patients from API"
   ]
  },
  {
   "cell_type": "code",
   "execution_count": null,
   "metadata": {},
   "outputs": [],
   "source": [
    "# fill new filenames\n",
    "new_patient_info_filename = 'random_patient_info.tsv'\n",
    "new_patient_spokesig_filename = 'random_patient_spokesigs.npy'\n",
    "\n",
    "# load new patient data\n",
    "new_cohort = pd.read_csv(new_patient_info_filename, sep='\\t', header=0, index_col=False)\n",
    "new_cohort.loc[:,'label'] = new_cohort.Disease.map(dict(zip(diseases, np.arange(len(diseases)))))\n",
    "new_spoke_sigs = np.load(new_patient_spokesig_filename, allow_pickle=False)\n",
    "# normalize new patients\n",
    "new_spoke_sigs = (new_spoke_sigs-mean_sig)/std_sig\n",
    "new_cohort.head()"
   ]
  },
  {
   "cell_type": "markdown",
   "metadata": {},
   "source": [
    "# Compare new patients to disease PSEVs"
   ]
  },
  {
   "cell_type": "code",
   "execution_count": null,
   "metadata": {},
   "outputs": [],
   "source": [
    "new_patient_to_disease_dist = cdist(new_spoke_sigs, psev_matrix, metric='cosine')\n",
    "#\n",
    "best_match = np.array(np.array(diseases)[np.argmin(new_patient_to_disease_dist, axis=1)])\n",
    "print(np.sum(new_cohort.Disease.values==best_match)/len(new_cohort))\n",
    "#\n",
    "new_cohort.loc[:,'pred'] = best_match\n",
    "new_cohort.loc[:,'match_correct'] = new_cohort.Disease.values == new_cohort.pred.values\n",
    "match_stats_df = new_cohort[['Patient_Index', 'Disease', 'pred']].groupby(['Disease','pred']).count().reset_index()\n",
    "match_stats_df"
   ]
  },
  {
   "cell_type": "markdown",
   "metadata": {},
   "source": [
    "# Load pre-trained random forest classifier (using initial cohort)"
   ]
  },
  {
   "cell_type": "code",
   "execution_count": null,
   "metadata": {},
   "outputs": [],
   "source": [
    "clf = joblib.load(\"random_forest_bc_cc_ibd.joblib\")"
   ]
  },
  {
   "cell_type": "markdown",
   "metadata": {},
   "source": [
    "# Test Random Forest Classifier using new patients"
   ]
  },
  {
   "cell_type": "code",
   "execution_count": null,
   "metadata": {},
   "outputs": [],
   "source": [
    "pred = clf.predict(new_spoke_sigs)\n",
    "print(np.sum(new_cohort.sort_values('Patient_Index').label.values==pred)/len(new_cohort)) #0.9333333333333333"
   ]
  },
  {
   "cell_type": "markdown",
   "metadata": {},
   "source": [
    "# Create node importance table"
   ]
  },
  {
   "cell_type": "code",
   "execution_count": null,
   "metadata": {},
   "outputs": [],
   "source": [
    "classifier_results = pd.read_csv('mean_node_val_df.tsv', sep='\\t', header=0, index_col=False)\n",
    "classifier_results.loc[:,'feature_importance'] = clf.feature_importances_\n"
   ]
  },
  {
   "cell_type": "markdown",
   "metadata": {},
   "source": [
    "# Set a threshold for node importance"
   ]
  },
  {
   "cell_type": "code",
   "execution_count": null,
   "metadata": {},
   "outputs": [],
   "source": [
    "# select % threshold\n",
    "thresh_percentile = 99\n",
    "feature_thresh = np.percentile(classifier_results.feature_importance.values, thresh_percentile)\n",
    "# select number of rows to show\n",
    "top_n=50"
   ]
  },
  {
   "cell_type": "markdown",
   "metadata": {},
   "source": [
    "# Look at key nodes for IBS"
   ]
  },
  {
   "cell_type": "markdown",
   "metadata": {},
   "source": [
    "These are the top IBS nodes that pass feature importance threshold\n",
    "sorted by their avg significance in the IBS cohort"
   ]
  },
  {
   "cell_type": "code",
   "execution_count": null,
   "metadata": {
    "scrolled": true
   },
   "outputs": [],
   "source": [
    "col = 'irritable_bowel_syndrome'\n",
    "classifier_results[classifier_results.feature_importance>feature_thresh].sort_values(col, ascending=False).head(top_n)"
   ]
  },
  {
   "cell_type": "markdown",
   "metadata": {},
   "source": [
    "These are the top IBS nodes that pass feature importance and IBS avg sig thresholds. Nodes are sorted by their feature importance for the RF classifier"
   ]
  },
  {
   "cell_type": "code",
   "execution_count": null,
   "metadata": {
    "scrolled": true
   },
   "outputs": [],
   "source": [
    "thresh = np.percentile(classifier_results[col].values, thresh_percentile)\n",
    "classifier_results[(classifier_results.feature_importance>feature_thresh)&(classifier_results[col]>thresh)].sort_values('feature_importance', ascending=False).head(top_n)"
   ]
  },
  {
   "cell_type": "markdown",
   "metadata": {},
   "source": [
    "# Look at key nodes for breast cancer"
   ]
  },
  {
   "cell_type": "markdown",
   "metadata": {},
   "source": [
    "These are the top breast cancer nodes that pass feature importance threshold sorted by their avg significance in the breast cancer cohort"
   ]
  },
  {
   "cell_type": "code",
   "execution_count": null,
   "metadata": {
    "scrolled": true
   },
   "outputs": [],
   "source": [
    "col = 'breast_cancer'\n",
    "classifier_results[classifier_results.feature_importance>feature_thresh].sort_values(col, ascending=False).head(top_n)"
   ]
  },
  {
   "cell_type": "markdown",
   "metadata": {},
   "source": [
    "These are the top breast cancer nodes that pass feature importance and breast cancer avg sig thresholds. Nodes are sorted by their feature importance for the RF classifier"
   ]
  },
  {
   "cell_type": "code",
   "execution_count": null,
   "metadata": {
    "scrolled": true
   },
   "outputs": [],
   "source": [
    "thresh = np.percentile(classifier_results[col].values, thresh_percentile)\n",
    "classifier_results[(classifier_results.feature_importance>feature_thresh)&(classifier_results[col]>thresh)].sort_values('feature_importance', ascending=False).head(top_n)"
   ]
  },
  {
   "cell_type": "markdown",
   "metadata": {},
   "source": [
    "# Look at key nodes for colon cancer"
   ]
  },
  {
   "cell_type": "markdown",
   "metadata": {},
   "source": [
    "These are the top colon cancer nodes that pass feature importance threshold sorted by their avg significance in the colon cancer cohort"
   ]
  },
  {
   "cell_type": "code",
   "execution_count": null,
   "metadata": {
    "scrolled": true
   },
   "outputs": [],
   "source": [
    "col = 'colon_cancer'\n",
    "classifier_results[classifier_results.feature_importance>feature_thresh].sort_values(col, ascending=False).head(top_n)"
   ]
  },
  {
   "cell_type": "markdown",
   "metadata": {},
   "source": [
    "These are the top colon cancer nodes that pass feature importance and colon cancer avg sig thresholds. Nodes are sorted by their feature importance for the RF classifier"
   ]
  },
  {
   "cell_type": "code",
   "execution_count": null,
   "metadata": {
    "scrolled": true
   },
   "outputs": [],
   "source": [
    "thresh = np.percentile(classifier_results[col].values, thresh_percentile)\n",
    "classifier_results[(classifier_results.feature_importance>feature_thresh)&(classifier_results[col]>thresh)].sort_values('feature_importance', ascending=False).head(top_n)"
   ]
  },
  {
   "cell_type": "code",
   "execution_count": null,
   "metadata": {},
   "outputs": [],
   "source": []
  },
  {
   "cell_type": "code",
   "execution_count": null,
   "metadata": {},
   "outputs": [],
   "source": []
  },
  {
   "cell_type": "code",
   "execution_count": null,
   "metadata": {},
   "outputs": [],
   "source": []
  }
 ],
 "metadata": {
  "kernelspec": {
   "display_name": "Python 3 (ipykernel)",
   "language": "python",
   "name": "python3"
  },
  "language_info": {
   "codemirror_mode": {
    "name": "ipython",
    "version": 3
   },
   "file_extension": ".py",
   "mimetype": "text/x-python",
   "name": "python",
   "nbconvert_exporter": "python",
   "pygments_lexer": "ipython3",
   "version": "3.8.2"
  }
 },
 "nbformat": 4,
 "nbformat_minor": 4
}
